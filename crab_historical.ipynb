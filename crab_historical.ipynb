{
 "cells": [
  {
   "cell_type": "markdown",
   "id": "8d4d47ae",
   "metadata": {
    "slideshow": {
     "slide_type": "slide"
    }
   },
   "source": [
    "# Understanding CMS Disk Data\n",
    "\n",
    "\n",
    "https://docs.google.com/document/d/1i-0uGs_wqsLBvrzK3QeHVhe_8vlMIe6gGryoE5gV_dM/edit#"
   ]
  },
  {
   "cell_type": "markdown",
   "id": "2950f1d9",
   "metadata": {
    "hide_input": false,
    "slideshow": {
     "slide_type": "skip"
    }
   },
   "source": [
    "## Import and Notebook Configuration"
   ]
  },
  {
   "cell_type": "code",
   "execution_count": 1,
   "id": "10ac7676",
   "metadata": {
    "ExecuteTime": {
     "end_time": "2022-09-19T19:38:33.166738Z",
     "start_time": "2022-09-19T19:38:30.689234Z"
    },
    "hide_input": false,
    "slideshow": {
     "slide_type": "skip"
    }
   },
   "outputs": [],
   "source": [
    "\n",
    "from datetime import datetime, date, timedelta\n",
    "from pyspark.sql.functions import (\n",
    "    col,\n",
    "    lit,\n",
    "    when,\n",
    "    sum as _sum,\n",
    "    count as _count,\n",
    "    first,\n",
    "    date_format,\n",
    "    from_unixtime,\n",
    "    to_date,\n",
    "    countDistinct,\n",
    "    collect_list\n",
    ")\n",
    "import calendar\n",
    "import numpy as np\n",
    "import pandas as pd\n",
    "from pyspark.sql.types import (\n",
    "    StructType,\n",
    "    LongType,\n",
    "    StringType,\n",
    "    StructField,\n",
    "    DoubleType,\n",
    "    IntegerType,\n",
    ")\n",
    "import matplotlib.pyplot as plt\n",
    "from pyspark.sql.window import Window\n",
    "\n",
    "import pyspark.sql.functions as func"
   ]
  },
  {
   "cell_type": "code",
   "execution_count": 2,
   "id": "9be3669a",
   "metadata": {
    "ExecuteTime": {
     "end_time": "2022-09-19T19:38:33.177678Z",
     "start_time": "2022-09-19T19:38:33.171102Z"
    },
    "hide_input": false,
    "slideshow": {
     "slide_type": "skip"
    }
   },
   "outputs": [],
   "source": [
    "#Pandas options to not truncate columns \n",
    "pd.options.display.float_format = '{:,.2f}'.format\n",
    "pd.set_option('display.max_columns', None)\n",
    "pd.set_option('max_colwidth', None)\n",
    "pd.set_option('max_rows', None)"
   ]
  },
  {
   "cell_type": "code",
   "execution_count": 3,
   "id": "e266e92e",
   "metadata": {
    "ExecuteTime": {
     "end_time": "2022-09-19T19:38:33.200071Z",
     "start_time": "2022-09-19T19:38:33.182528Z"
    },
    "slideshow": {
     "slide_type": "skip"
    }
   },
   "outputs": [],
   "source": [
    "def _get_schema():\n",
    "    return StructType(\n",
    "        [\n",
    "            StructField(\n",
    "                \"data\",\n",
    "                StructType(\n",
    "                    [\n",
    "                        StructField(\"RecordTime\", LongType(), nullable=False),\n",
    "                        StructField(\"InputData\", StringType(), nullable=True),\n",
    "                        StructField(\"Status\", StringType(), nullable=True),\n",
    "                        StructField(\"DESIRED_CMSDataset\", StringType(), nullable=True),\n",
    "                        StructField(\"CpuTimeHr\", DoubleType(), nullable=True),\n",
    "                        StructField(\"RequestCpus\", LongType(), nullable=True),\n",
    "                        StructField(\"GlobalJobId\", StringType(), nullable=False),\n",
    "                        StructField(\"CMS_SubmissionTool\", StringType(), nullable=True),\n",
    "                        StructField(\"CMS_TaskType\", StringType(), nullable=True),\n",
    "                        StructField(\"TaskType\", StringType(), nullable=True),\n",
    "                        StructField(\"Type\", StringType(), nullable=True),\n",
    "                        StructField(\"CRAB_JobType\", StringType(), nullable=True),\n",
    "                        StructField(\"CMS_JobType\", StringType(), nullable=True),\n",
    "                        StructField(\"CRAB_ReqName\", StringType(), nullable=True),\n",
    "                        StructField(\"CRAB_UserHN\", StringType(), nullable=True),\n",
    "                        StructField(\"USER\", StringType(), nullable=True),\n",
    "                        StructField(\"Workflow\", StringType(), nullable=True),\n",
    "                        StructField(\"CRAB_Workflow\", StringType(), nullable=True),\n",
    "                        StructField(\"CRAB_DataBlock\", StringType(), nullable=True),\n",
    "                        StructField(\"CMSPrimaryDataTier\", StringType(), nullable=True)\n",
    "                        \n",
    "                    ]\n",
    "                ),\n",
    "            ),\n",
    "        ]\n",
    "    )\n"
   ]
  },
  {
   "cell_type": "code",
   "execution_count": 4,
   "id": "e24e69f9",
   "metadata": {
    "ExecuteTime": {
     "end_time": "2022-09-19T19:38:33.211234Z",
     "start_time": "2022-09-19T19:38:33.203808Z"
    },
    "slideshow": {
     "slide_type": "skip"
    }
   },
   "outputs": [],
   "source": [
    "def get_candidate_files(start_date, end_date, spark, base):\n",
    "    \n",
    "    # We check one date before and after the required dates\n",
    "    # This ensures we do not miss records with events in different day than the date on the file\n",
    "    # which may be the case due to delay in the processing queue\n",
    "    # Later we filter records outside required timespan\n",
    "    st_date = start_date - timedelta(days=1)\n",
    "    ed_date = end_date + timedelta(days=1)\n",
    "    days = (ed_date - st_date).days\n",
    "    \n",
    "    sc = spark.sparkContext\n",
    "    candidate_files = [\n",
    "        f\"{base}/{(st_date + timedelta(days=i)).strftime('%Y/%m/%d')}\"\n",
    "    # Uncomment below instead to include temp files: temp files might become unaccessible during code execution\n",
    "    #     f\"{base}/{(st_date + timedelta(days=i)).strftime('%Y/%m/%d')}{{,.tmp}}\"\n",
    "        for i in range(0, days)\n",
    "    ]\n",
    "\n",
    "    FileSystem = sc._gateway.jvm.org.apache.hadoop.fs.FileSystem\n",
    "    URI = sc._gateway.jvm.java.net.URI\n",
    "    Path = sc._gateway.jvm.org.apache.hadoop.fs.Path\n",
    "    fs = FileSystem.get(URI(\"hdfs:///\"), sc._jsc.hadoopConfiguration())\n",
    "    \n",
    "    #https://hadoop.apache.org/docs/stable/api/org/apache/hadoop/fs/FileSystem.html#globStatus-org.apache.hadoop.fs.Path-\n",
    "    #patter match to include temporary files\n",
    "    candidate_files = [url for url in candidate_files if fs.globStatus(Path(url))]\n",
    "    \n",
    "    return candidate_files"
   ]
  },
  {
   "cell_type": "markdown",
   "id": "89a93f73",
   "metadata": {},
   "source": [
    "### Data Source"
   ]
  },
  {
   "cell_type": "code",
   "execution_count": 5,
   "id": "3ead6284",
   "metadata": {
    "ExecuteTime": {
     "end_time": "2022-09-19T19:38:33.547699Z",
     "start_time": "2022-09-19T19:38:33.542630Z"
    },
    "slideshow": {
     "slide_type": "slide"
    }
   },
   "outputs": [],
   "source": [
    "_DEFAULT_HDFS_FOLDER = \"/project/monitoring/archive/condor/raw/metric\"\n",
    "# HDFS_DBS_FILES = '/project/awg/cms/CMS_DBS3_PROD_GLOBAL/current/FILES/part-m-00000'\n",
    "# HDFS_DBS_DATASETS = '/project/awg/cms/CMS_DBS3_PROD_GLOBAL/current/DATASETS/part-m-00000'"
   ]
  },
  {
   "cell_type": "code",
   "execution_count": 6,
   "id": "b58283fc",
   "metadata": {
    "ExecuteTime": {
     "end_time": "2022-09-19T19:38:34.666026Z",
     "start_time": "2022-09-19T19:38:34.658261Z"
    },
    "slideshow": {
     "slide_type": "skip"
    }
   },
   "outputs": [],
   "source": [
    "def get_past_n_days(days_range, end_date):\n",
    "    timestamp = calendar.timegm(end_date.timetuple())\n",
    "    end_datetime = datetime.utcfromtimestamp(timestamp)\n",
    "    start_datetime = end_datetime - timedelta(days=days_range)\n",
    "    return start_datetime, end_datetime\n",
    "\n"
   ]
  },
  {
   "cell_type": "code",
   "execution_count": 7,
   "id": "4ff7492c",
   "metadata": {
    "ExecuteTime": {
     "end_time": "2022-09-19T19:38:36.063461Z",
     "start_time": "2022-09-19T19:38:36.057508Z"
    },
    "slideshow": {
     "slide_type": "slide"
    }
   },
   "outputs": [],
   "source": [
    "def get_raw_df(days_range, end_date=date.today()):\n",
    "    \n",
    "    schema = _get_schema()\n",
    "    start_date, end_date = get_past_n_days(days_range, end_date)\n",
    "    \n",
    "    raw_df = (\n",
    "            spark.read.option(\"basePath\", _DEFAULT_HDFS_FOLDER)\n",
    "            .json(\n",
    "                get_candidate_files(start_date, end_date, spark, base=_DEFAULT_HDFS_FOLDER),\n",
    "                schema=schema,\n",
    "            )\n",
    "            .select(\"data.*\")\n",
    "            .filter(col(\"RecordTime\")>=start_date.timestamp() * 1000)\n",
    "            .filter(col(\"RecordTime\")<end_date.timestamp() * 1000)\n",
    "    )\n",
    "    return raw_df\n",
    "\n",
    "\n",
    "#         .drop_duplicates([\"GlobalJobId\"])\n",
    "#     )\n",
    "\n"
   ]
  },
  {
   "cell_type": "code",
   "execution_count": 8,
   "id": "e06323b7",
   "metadata": {
    "ExecuteTime": {
     "end_time": "2022-09-19T19:38:37.218778Z",
     "start_time": "2022-09-19T19:38:37.210650Z"
    },
    "slideshow": {
     "slide_type": "skip"
    }
   },
   "outputs": [],
   "source": [
    "def get_dataset_request_frequency(days_range, end_date=date.today()):\n",
    "    \n",
    "    raw_df = get_raw_df(days_range, end_date)\n",
    "    # We filter:\n",
    "    # Events with Submission tool as CRAB\n",
    "    # Select a single instace of CRAB_Workflow - our concerened field `DESIRED_CMSDataset` is same for all such rows (check assumption check 1)\n",
    "    # Drop rows with DESIRED_CMSDataset as \"null\" - these are Monte Carlo jobs and do not require presence of datasets\n",
    "\n",
    "    df_filtered = raw_df\\\n",
    "            .filter(col(\"CMS_SubmissionTool\")=='CRAB')\\\n",
    "            .filter(col(\"DESIRED_CMSDataset\")!='null')\\\n",
    "            .drop_duplicates([\"CRAB_Workflow\"])\n",
    "    \n",
    "    # We aggregate:\n",
    "    # Group on DESIRED_CMSDataset\n",
    "    # - count CRAB_Workflow: this represent the frequency of request of the dataset\n",
    "    # - count CRAB_UserHN: (Question: how can this help us?) : frequency of unique users requesting that dataset \n",
    "\n",
    "    df_aggregated = df_filtered\\\n",
    "            .groupby(col('DESIRED_CMSDataset'))\\\n",
    "            .agg(\n",
    "                 countDistinct(col(\"CRAB_Workflow\")).alias(\"dataset_request_frequency\")\n",
    "                )\\\n",
    "            .orderBy(col('dataset_request_frequency').desc())\n",
    "    \n",
    "    return df_aggregated\n",
    "    "
   ]
  },
  {
   "cell_type": "code",
   "execution_count": null,
   "id": "b2fafa66",
   "metadata": {},
   "outputs": [],
   "source": []
  },
  {
   "cell_type": "markdown",
   "id": "e0fbf99a",
   "metadata": {
    "slideshow": {
     "slide_type": "slide"
    }
   },
   "source": [
    "## For each day the amount of unique data requested by crab workflow in the past 7d/30d/60d\n",
    "    - rough estimation of how much data crab need to be there\n",
    "> **We are counting Number of crab workflows that began that day.**"
   ]
  },
  {
   "cell_type": "code",
   "execution_count": 9,
   "id": "4d95b0d3",
   "metadata": {
    "ExecuteTime": {
     "end_time": "2022-09-19T19:38:39.713438Z",
     "start_time": "2022-09-19T19:38:39.702676Z"
    },
    "slideshow": {
     "slide_type": "slide"
    }
   },
   "outputs": [],
   "source": [
    "def get_distinct_crab_workflow(n_days, pivot_on_datatier = False, datatiers = [\"MINIAOD\",\"MINIAODSIM\",\"AOD\",\"AODSIM\"]):\n",
    "    #Sum of size of datasets requested every day\n",
    "    ## Convert timestamp to dates, group by and count on dates\n",
    "\n",
    "    raw_df = get_raw_df(n_days)\n",
    "    #We rank occurence of a Workflow and select the first occurence - essentially the one with lowest RecordTime\n",
    "    windowPartitionWorkflow = Window.partitionBy(\"CRAB_Workflow\").orderBy(\"RecordTime\")\n",
    "    \n",
    "    #We filter the first occurence of a crab_workflow\n",
    "    #Convert unix time stamp to date\n",
    "    #count distinct crab workflow that executed on a day\n",
    "\n",
    "    df_distinct_crab_workflow = raw_df\\\n",
    "            .filter(col(\"CMS_SubmissionTool\")=='CRAB')\\\n",
    "            .filter(col(\"DESIRED_CMSDataset\")!='null')\\\n",
    "            .select(['DESIRED_CMSDataset', 'CRAB_Workflow', 'RecordTime', 'CMSPrimaryDataTier'])\\\n",
    "            .withColumn(\"TimeRank\", func.row_number().over(windowPartitionWorkflow))\\\n",
    "            .filter(col(\"TimeRank\")==1)\\\n",
    "            .withColumn(\"RecordDate\", func.to_date(func.from_unixtime(col(\"RecordTime\")/1000)))\n",
    "\n",
    "    \n",
    "    if pivot_on_datatier:\n",
    "        df = df_distinct_crab_workflow\\\n",
    "                .select(['DESIRED_CMSDataset', 'CRAB_Workflow', 'RecordDate', 'CMSPrimaryDataTier'])\\\n",
    "                .groupby('RecordDate').pivot(\"CMSPrimaryDataTier\", datatiers).agg(countDistinct('CRAB_Workflow'))\n",
    "    else:\n",
    "        df = df_distinct_crab_workflow\\\n",
    "                .select(['DESIRED_CMSDataset', 'CRAB_Workflow', 'RecordDate'])\\\n",
    "                .groupby('RecordDate').agg(countDistinct('CRAB_Workflow'))\n",
    "        \n",
    "    return df\n",
    "    "
   ]
  },
  {
   "cell_type": "code",
   "execution_count": 10,
   "id": "a5d74c9f",
   "metadata": {
    "ExecuteTime": {
     "end_time": "2022-09-19T19:46:37.436898Z",
     "start_time": "2022-09-19T19:39:20.653278Z"
    },
    "slideshow": {
     "slide_type": "slide"
    }
   },
   "outputs": [
    {
     "data": {
      "text/plain": [
       "<AxesSubplot:xlabel='RecordDate'>"
      ]
     },
     "execution_count": 10,
     "metadata": {},
     "output_type": "execute_result"
    },
    {
     "data": {
      "image/png": "[encoded data removed]",
      "text/plain": [
       "<Figure size 1152x576 with 1 Axes>"
      ]
     },
     "metadata": {
      "needs_background": "light"
     },
     "output_type": "display_data"
    }
   ],
   "source": [
    "#Number of days\n",
    "n_days = 15\n",
    "pd_distinct_crab_workflow = get_distinct_crab_workflow(n_days).toPandas()\n",
    "pd_distinct_crab_workflow.sort_values('RecordDate').set_index('RecordDate').plot.bar(figsize=(16, 8))"
   ]
  },
  {
   "cell_type": "code",
   "execution_count": 11,
   "id": "71c47cdd",
   "metadata": {
    "ExecuteTime": {
     "end_time": "2022-09-19T19:53:20.224998Z",
     "start_time": "2022-09-19T19:46:37.439811Z"
    },
    "slideshow": {
     "slide_type": "slide"
    }
   },
   "outputs": [
    {
     "data": {
      "text/plain": [
       "<AxesSubplot:xlabel='RecordDate'>"
      ]
     },
     "execution_count": 11,
     "metadata": {},
     "output_type": "execute_result"
    },
    {
     "data": {
      "image/png": "[encoded data removed]",
      "text/plain": [
       "<Figure size 1152x576 with 1 Axes>"
      ]
     },
     "metadata": {
      "needs_background": "light"
     },
     "output_type": "display_data"
    }
   ],
   "source": [
    "pd_distinct_crab_workflow_by_data_tier = get_distinct_crab_workflow(n_days, pivot_on_datatier=True).toPandas()\n",
    "\n",
    "pd_distinct_crab_workflow_by_data_tier.sort_values('RecordDate').set_index('RecordDate').plot.bar(figsize=(16, 8))"
   ]
  },
  {
   "cell_type": "code",
   "execution_count": null,
   "id": "0002caa3",
   "metadata": {},
   "outputs": [],
   "source": []
  },
  {
   "cell_type": "code",
   "execution_count": null,
   "id": "9709da48",
   "metadata": {},
   "outputs": [],
   "source": []
  },
  {
   "cell_type": "code",
   "execution_count": null,
   "id": "0ed2fa2f",
   "metadata": {},
   "outputs": [],
   "source": []
  },
  {
   "cell_type": "code",
   "execution_count": null,
   "id": "04a13caf",
   "metadata": {},
   "outputs": [],
   "source": []
  },
  {
   "cell_type": "code",
   "execution_count": null,
   "id": "1da5fd89",
   "metadata": {},
   "outputs": [],
   "source": []
  },
  {
   "cell_type": "markdown",
   "id": "5c5096c2",
   "metadata": {
    "slideshow": {
     "slide_type": "slide"
    }
   },
   "source": [
    "## For each day the amount of new unique data requested w.r.t. the past 7d/30d/60d\n",
    "\t- estimating in this way the amount of new data to be transferred\n",
    "\n",
    "> **Count of Difference between \"the set of datasets used in the past n days\" and \"list of datasets used today\"**"
   ]
  },
  {
   "cell_type": "code",
   "execution_count": 34,
   "id": "0be212e1",
   "metadata": {
    "ExecuteTime": {
     "end_time": "2022-09-19T20:57:59.299802Z",
     "start_time": "2022-09-19T20:57:59.286021Z"
    },
    "slideshow": {
     "slide_type": "slide"
    }
   },
   "outputs": [],
   "source": [
    "def get_dataset_per_day(days, end_date=None, datewiseUnique=True):\n",
    "    \n",
    "    if end_date is None:\n",
    "        raw_df = get_raw_df(days)\n",
    "    else:\n",
    "        raw_df = get_raw_df(days, end_date)\n",
    "\n",
    "    #We rank occurence of a Workflow and select the first occurence - essentially the one with lowest RecordTime\n",
    "    windowPartitionWorkflow = Window.partitionBy(\"CRAB_Workflow\").orderBy(\"RecordTime\")\n",
    "    \n",
    "    df = raw_df\\\n",
    "        .filter(col(\"CMS_SubmissionTool\")=='CRAB')\\\n",
    "        .filter(col(\"DESIRED_CMSDataset\").isNotNull())\\\n",
    "        .select(['DESIRED_CMSDataset', 'CRAB_Workflow', 'RecordTime', 'CMSPrimaryDataTier'])\\\n",
    "        .withColumn(\"TimeRank\", func.row_number().over(windowPartitionWorkflow))\\\n",
    "        .filter(col(\"TimeRank\")==1)\\\n",
    "        .withColumn(\"RecordDate\", func.to_date(func.from_unixtime(col(\"RecordTime\")/1000)))\\\n",
    "        .select(['DESIRED_CMSDataset', 'CRAB_Workflow', 'RecordDate', 'CMSPrimaryDataTier'])\n",
    "\n",
    "    \n",
    "    if datewiseUnique:\n",
    "        df = df.dropDuplicates(['DESIRED_CMSDataset', 'RecordDate'])\n",
    "        \n",
    "    return df\n",
    "        "
   ]
  },
  {
   "cell_type": "code",
   "execution_count": 35,
   "id": "00e412a4",
   "metadata": {
    "ExecuteTime": {
     "end_time": "2022-09-19T20:58:00.230576Z",
     "start_time": "2022-09-19T20:58:00.216126Z"
    },
    "slideshow": {
     "slide_type": "skip"
    }
   },
   "outputs": [],
   "source": [
    "\n",
    "def get_count_new_unique_dataset_past_n_days(threshold_days, data_days, pivot_on_datatier = False):\n",
    "    # threshold_days - Unique data with respect to past threshold days - 15 days for current rule time\n",
    "    # number_of_days - Number of days to do analysis for - for daily runs - use 1, for weekly - 7\n",
    "    \n",
    "    datatiers = [\"MINIAOD\",\"MINIAODSIM\",\"AOD\",\"AODSIM\"]\n",
    "    unique_count_dict = {}\n",
    "\n",
    "    \n",
    "    for i in range(data_days):\n",
    "        print(f\"Running for {i}th day\")\n",
    "        today = date.today() - timedelta(i)\n",
    "        yesterday = date.today() - timedelta(i+1)\n",
    "        strdate = today.strftime('%d_%m_%Y')\n",
    "\n",
    "        df_today = get_dataset_per_day(1, today, datewiseUnique=True)\n",
    "        df_past_threshold_days = get_dataset_per_day(threshold_days, yesterday, datewiseUnique=True)\n",
    "\n",
    "        cnt_df = df_today.alias('T')\\\n",
    "                    .join(df_past_threshold_days.alias('L'), col(\"T.DESIRED_CMSDataset\")==col(\"L.DESIRED_CMSDataset\"), \"left\")\\\n",
    "                    .filter(col('L.DESIRED_CMSDataset').isNull())\n",
    "        \n",
    "        if pivot_on_datatier:\n",
    "            cnt = cnt_df\\\n",
    "                    .withColumn(\"newcol\",lit(strdate))\\\n",
    "                    .groupBy(\"newcol\")\\\n",
    "                    .pivot(\"T.CMSPrimaryDataTier\", datatiers)\\\n",
    "                    .count()\\\n",
    "                    .collect()\n",
    "            \n",
    "            if len(cnt):\n",
    "                unique_count_dict[strdate] = cnt[0].asDict()\n",
    "            else:\n",
    "                unique_count_dict[strdate] = {'newcol': strdate, 'MINIAOD': 0, 'MINIAODSIM': 0, 'AOD': 0, 'AODSIM': 0}\n",
    "            \n",
    "        else:\n",
    "            cnt = cnt_df.count()\n",
    "            unique_count_dict[strdate] = {'ALL': cnt}\n",
    "        \n",
    "\n",
    "        \n",
    "        \n",
    "    return unique_count_dict\n",
    "        "
   ]
  },
  {
   "cell_type": "code",
   "execution_count": 36,
   "id": "6ef5706f",
   "metadata": {
    "ExecuteTime": {
     "end_time": "2022-09-19T22:30:36.953086Z",
     "start_time": "2022-09-19T20:58:01.621509Z"
    },
    "slideshow": {
     "slide_type": "slide"
    }
   },
   "outputs": [
    {
     "name": "stdout",
     "output_type": "stream",
     "text": [
      "Running for 0th day\n",
      "Running for 1th day\n",
      "Running for 2th day\n",
      "Running for 3th day\n",
      "Running for 4th day\n",
      "Running for 5th day\n",
      "Running for 6th day\n",
      "Running for 7th day\n",
      "Running for 8th day\n",
      "Running for 9th day\n"
     ]
    },
    {
     "data": {
      "text/plain": [
       "<AxesSubplot:>"
      ]
     },
     "execution_count": 36,
     "metadata": {},
     "output_type": "execute_result"
    },
    {
     "data": {
      "image/png": "[encoded data removed]",
      "text/plain": [
       "<Figure size 1152x576 with 1 Axes>"
      ]
     },
     "metadata": {
      "needs_background": "light"
     },
     "output_type": "display_data"
    }
   ],
   "source": [
    "dict_count_datatier = get_count_new_unique_dataset_past_n_days(15, 10, pivot_on_datatier=True)\n",
    "pd.DataFrame.from_dict(dict_count_datatier, orient='index').sort_index().plot.bar(figsize=(16,8))"
   ]
  },
  {
   "cell_type": "code",
   "execution_count": 37,
   "id": "fc4a868b",
   "metadata": {
    "ExecuteTime": {
     "end_time": "2022-09-20T00:02:47.534282Z",
     "start_time": "2022-09-19T22:30:36.957343Z"
    },
    "slideshow": {
     "slide_type": "slide"
    }
   },
   "outputs": [
    {
     "name": "stdout",
     "output_type": "stream",
     "text": [
      "Running for 0th day\n",
      "Running for 1th day\n"
     ]
    },
    {
     "name": "stderr",
     "output_type": "stream",
     "text": [
      "22/09/20 00:32:35 WARN SharedInMemoryCache: Evicting cached table partition metadata from memory due to size constraints (spark.sql.hive.filesourcePartitionFileCacheSize = 262144000 bytes). This may impact query planning performance.\n"
     ]
    },
    {
     "name": "stdout",
     "output_type": "stream",
     "text": [
      "Running for 2th day\n",
      "Running for 3th day\n",
      "Running for 4th day\n",
      "Running for 5th day\n",
      "Running for 6th day\n",
      "Running for 7th day\n",
      "Running for 8th day\n",
      "Running for 9th day\n"
     ]
    },
    {
     "data": {
      "text/plain": [
       "<AxesSubplot:>"
      ]
     },
     "execution_count": 37,
     "metadata": {},
     "output_type": "execute_result"
    },
    {
     "data": {
      "image/png": "[encoded data removed]",
      "text/plain": [
       "<Figure size 1152x576 with 1 Axes>"
      ]
     },
     "metadata": {
      "needs_background": "light"
     },
     "output_type": "display_data"
    }
   ],
   "source": [
    "dict_count_total = get_count_new_unique_dataset_past_n_days(15, 10)\n",
    "pd.DataFrame.from_dict(dict_count_total, orient='index').sort_index().plot.bar(figsize=(16,8))"
   ]
  },
  {
   "cell_type": "code",
   "execution_count": null,
   "id": "2d63d714",
   "metadata": {},
   "outputs": [],
   "source": []
  },
  {
   "cell_type": "code",
   "execution_count": null,
   "id": "99f301e7",
   "metadata": {},
   "outputs": [],
   "source": []
  },
  {
   "cell_type": "code",
   "execution_count": null,
   "id": "4d2207c9",
   "metadata": {},
   "outputs": [],
   "source": []
  },
  {
   "cell_type": "code",
   "execution_count": null,
   "id": "bc58642d",
   "metadata": {},
   "outputs": [],
   "source": []
  },
  {
   "cell_type": "code",
   "execution_count": null,
   "id": "2c2e304d",
   "metadata": {},
   "outputs": [],
   "source": []
  },
  {
   "cell_type": "code",
   "execution_count": null,
   "id": "5a418ea8",
   "metadata": {},
   "outputs": [],
   "source": []
  },
  {
   "cell_type": "markdown",
   "id": "2f4833da",
   "metadata": {
    "slideshow": {
     "slide_type": "slide"
    }
   },
   "source": [
    "### - [MEDIUM] histogram with the lifetime distribution of the datasets in the last 2y (lifetime == last request - first request)\n",
    "\t- normal histo and one weighetd by dataset size\n",
    "\n",
    "> **We calculate lifetime as difference in dataset occurence dates in different workflows**"
   ]
  },
  {
   "cell_type": "code",
   "execution_count": 38,
   "id": "f89e30fb",
   "metadata": {
    "ExecuteTime": {
     "end_time": "2022-09-20T00:02:47.543462Z",
     "start_time": "2022-09-20T00:02:47.536658Z"
    },
    "slideshow": {
     "slide_type": "slide"
    }
   },
   "outputs": [],
   "source": [
    "# Lifetime: Difference between latest(MaxDate) and first(MinDate) occurence of Dataset in Workflows\n",
    "# Count: Number of occurence of Dataset in different Workflows (on how many different dates was the dataset requested in different workflows, this is because of datewiseunique=true)\n",
    "# WeightedLifetime: Lifetime * Count (we may want to change how weight is applied)\n",
    "\n",
    "def get_df_lifetime(n_days):\n",
    "\n",
    "    today = date.today()\n",
    "    windowPartitionDataset = Window.partitionBy(\"DESIRED_CMSDataset\")\n",
    "    df_ndays = get_dataset_per_day(n_days, today, datewiseUnique=False)\n",
    "\n",
    "    df_lifetime = df_ndays\\\n",
    "        .withColumn(\"MaxDate\", func.max(col('RecordDate')).over(windowPartitionDataset))\\\n",
    "        .withColumn(\"MinDate\", func.min(col('RecordDate')).over(windowPartitionDataset))\\\n",
    "        .withColumn(\"Count\", func.count(col('RecordDate')).over(windowPartitionDataset))\\\n",
    "        .withColumn(\"Lifetime\", func.datediff(col(\"MaxDate\"), col(\"MinDate\")))\\\n",
    "        .withColumn(\"WeightedLifetime\", col(\"Lifetime\")*col(\"Count\"))\\\n",
    "        .dropDuplicates([\"DESIRED_CMSDataset\"])\\\n",
    "        .select([\"DESIRED_CMSDataset\", \"Lifetime\", \"WeightedLifetime\", \"Count\", \"CMSPrimaryDataTier\"])\n",
    "            \n",
    "    return df_lifetime"
   ]
  },
  {
   "cell_type": "code",
   "execution_count": 39,
   "id": "e82ccf30",
   "metadata": {
    "ExecuteTime": {
     "end_time": "2022-09-20T00:02:47.604208Z",
     "start_time": "2022-09-20T00:02:47.546216Z"
    },
    "slideshow": {
     "slide_type": "skip"
    }
   },
   "outputs": [],
   "source": [
    "def get_datatier_histograms(df, countColumn, pivotColumn=None, pivotList=None, n_bins=10):\n",
    "    max_value, min_value = df.agg({countColumn: \"max\"}).collect()[0][0], 0\n",
    "    bin_size = max_value/n_bins\n",
    "    \n",
    "    histogram = df.withColumn(\"bin\", (col(countColumn)/bin_size).cast('int'))\\\n",
    "                  .groupBy(\"bin\")\n",
    "    \n",
    "    if pivotColumn:\n",
    "        histogram = histogram.pivot(pivotColumn, pivotList)\n",
    "\n",
    "    histogram = histogram.count().collect()\n",
    "    \n",
    "    hist = {}\n",
    "    for row in histogram:\n",
    "        row_dict = row.asDict()\n",
    "        hist[row_dict.pop('bin')] = row_dict\n",
    "    \n",
    "    print(hist)\n",
    "    \n",
    "    return hist\n",
    "    \n",
    "    "
   ]
  },
  {
   "cell_type": "code",
   "execution_count": 40,
   "id": "3ff33c30",
   "metadata": {
    "ExecuteTime": {
     "end_time": "2022-09-20T00:02:48.409912Z",
     "start_time": "2022-09-20T00:02:47.607527Z"
    },
    "slideshow": {
     "slide_type": "slide"
    }
   },
   "outputs": [],
   "source": [
    "df_lifetime = get_df_lifetime(60)"
   ]
  },
  {
   "cell_type": "code",
   "execution_count": 41,
   "id": "f96b0877",
   "metadata": {
    "ExecuteTime": {
     "end_time": "2022-09-20T00:57:18.926697Z",
     "start_time": "2022-09-20T00:02:48.412071Z"
    }
   },
   "outputs": [
    {
     "name": "stderr",
     "output_type": "stream",
     "text": [
      "22/09/20 02:28:45 WARN BlockManagerMaster: Failed to remove broadcast 392 with removeFromMaster = true - org.apache.spark.SparkException: Could not find BlockManagerEndpoint1.\n",
      "\tat org.apache.spark.rpc.netty.Dispatcher.postMessage(Dispatcher.scala:178)\n",
      "\tat org.apache.spark.rpc.netty.Dispatcher.postRemoteMessage(Dispatcher.scala:136)\n",
      "\tat org.apache.spark.rpc.netty.NettyRpcHandler.receive(NettyRpcEnv.scala:684)\n",
      "\tat org.apache.spark.network.server.TransportRequestHandler.processRpcRequest(TransportRequestHandler.java:163)\n",
      "\tat org.apache.spark.network.server.TransportRequestHandler.handle(TransportRequestHandler.java:109)\n",
      "\tat org.apache.spark.network.server.TransportChannelHandler.channelRead0(TransportChannelHandler.java:140)\n",
      "\tat org.apache.spark.network.server.TransportChannelHandler.channelRead0(TransportChannelHandler.java:53)\n",
      "\tat io.netty.channel.SimpleChannelInboundHandler.channelRead(SimpleChannelInboundHandler.java:99)\n",
      "\tat io.netty.channel.AbstractChannelHandlerContext.invokeChannelRead(AbstractChannelHandlerContext.java:379)\n",
      "\tat io.netty.channel.AbstractChannelHandlerContext.invokeChannelRead(AbstractChannelHandlerContext.java:365)\n",
      "\tat io.netty.channel.AbstractChannelHandlerContext.fireChannelRead(AbstractChannelHandlerContext.java:357)\n",
      "\tat io.netty.handler.timeout.IdleStateHandler.channelRead(IdleStateHandler.java:286)\n",
      "\tat io.netty.channel.AbstractChannelHandlerContext.invokeChannelRead(AbstractChannelHandlerContext.java:379)\n",
      "\tat io.netty.channel.AbstractChannelHandlerContext.invokeChannelRead(AbstractChannelHandlerContext.java:365)\n",
      "\tat io.netty.channel.AbstractChannelHandlerContext.fireChannelRead(AbstractChannelHandlerContext.java:357)\n",
      "\tat io.netty.handler.codec.MessageToMessageDecoder.channelRead(MessageToMessageDecoder.java:103)\n",
      "\tat io.netty.channel.AbstractChannelHandlerContext.invokeChannelRead(AbstractChannelHandlerContext.java:379)\n",
      "\tat io.netty.channel.AbstractChannelHandlerContext.invokeChannelRead(AbstractChannelHandlerContext.java:365)\n",
      "\tat io.netty.channel.AbstractChannelHandlerContext.fireChannelRead(AbstractChannelHandlerContext.java:357)\n",
      "\tat org.apache.spark.network.util.TransportFrameDecoder.channelRead(TransportFrameDecoder.java:102)\n",
      "\tat io.netty.channel.AbstractChannelHandlerContext.invokeChannelRead(AbstractChannelHandlerContext.java:379)\n",
      "\tat io.netty.channel.AbstractChannelHandlerContext.invokeChannelRead(AbstractChannelHandlerContext.java:365)\n",
      "\tat io.netty.channel.AbstractChannelHandlerContext.fireChannelRead(AbstractChannelHandlerContext.java:357)\n",
      "\tat io.netty.channel.DefaultChannelPipeline$HeadContext.channelRead(DefaultChannelPipeline.java:1410)\n",
      "\tat io.netty.channel.AbstractChannelHandlerContext.invokeChannelRead(AbstractChannelHandlerContext.java:379)\n",
      "\tat io.netty.channel.AbstractChannelHandlerContext.invokeChannelRead(AbstractChannelHandlerContext.java:365)\n",
      "\tat io.netty.channel.DefaultChannelPipeline.fireChannelRead(DefaultChannelPipeline.java:919)\n",
      "\tat io.netty.channel.nio.AbstractNioByteChannel$NioByteUnsafe.read(AbstractNioByteChannel.java:166)\n",
      "\tat io.netty.channel.nio.NioEventLoop.processSelectedKey(NioEventLoop.java:719)\n",
      "\tat io.netty.channel.nio.NioEventLoop.processSelectedKeysOptimized(NioEventLoop.java:655)\n",
      "\tat io.netty.channel.nio.NioEventLoop.processSelectedKeys(NioEventLoop.java:581)\n",
      "\tat io.netty.channel.nio.NioEventLoop.run(NioEventLoop.java:493)\n",
      "\tat io.netty.util.concurrent.SingleThreadEventExecutor$4.run(SingleThreadEventExecutor.java:986)\n",
      "\tat io.netty.util.internal.ThreadExecutorMap$2.run(ThreadExecutorMap.java:74)\n",
      "\tat io.netty.util.concurrent.FastThreadLocalRunnable.run(FastThreadLocalRunnable.java:30)\n",
      "\tat java.lang.Thread.run(Thread.java:748)\n",
      "\n",
      "java.lang.RuntimeException: org.apache.spark.SparkException: Could not find BlockManagerEndpoint1.\n",
      "\tat org.apache.spark.rpc.netty.Dispatcher.postMessage(Dispatcher.scala:178)\n",
      "\tat org.apache.spark.rpc.netty.Dispatcher.postRemoteMessage(Dispatcher.scala:136)\n",
      "\tat org.apache.spark.rpc.netty.NettyRpcHandler.receive(NettyRpcEnv.scala:684)\n",
      "\tat org.apache.spark.network.server.TransportRequestHandler.processRpcRequest(TransportRequestHandler.java:163)\n",
      "\tat org.apache.spark.network.server.TransportRequestHandler.handle(TransportRequestHandler.java:109)\n",
      "\tat org.apache.spark.network.server.TransportChannelHandler.channelRead0(TransportChannelHandler.java:140)\n",
      "\tat org.apache.spark.network.server.TransportChannelHandler.channelRead0(TransportChannelHandler.java:53)\n",
      "\tat io.netty.channel.SimpleChannelInboundHandler.channelRead(SimpleChannelInboundHandler.java:99)\n",
      "\tat io.netty.channel.AbstractChannelHandlerContext.invokeChannelRead(AbstractChannelHandlerContext.java:379)\n",
      "\tat io.netty.channel.AbstractChannelHandlerContext.invokeChannelRead(AbstractChannelHandlerContext.java:365)\n",
      "\tat io.netty.channel.AbstractChannelHandlerContext.fireChannelRead(AbstractChannelHandlerContext.java:357)\n",
      "\tat io.netty.handler.timeout.IdleStateHandler.channelRead(IdleStateHandler.java:286)\n",
      "\tat io.netty.channel.AbstractChannelHandlerContext.invokeChannelRead(AbstractChannelHandlerContext.java:379)\n",
      "\tat io.netty.channel.AbstractChannelHandlerContext.invokeChannelRead(AbstractChannelHandlerContext.java:365)\n",
      "\tat io.netty.channel.AbstractChannelHandlerContext.fireChannelRead(AbstractChannelHandlerContext.java:357)\n",
      "\tat io.netty.handler.codec.MessageToMessageDecoder.channelRead(MessageToMessageDecoder.java:103)\n",
      "\tat io.netty.channel.AbstractChannelHandlerContext.invokeChannelRead(AbstractChannelHandlerContext.java:379)\n",
      "\tat io.netty.channel.AbstractChannelHandlerContext.invokeChannelRead(AbstractChannelHandlerContext.java:365)\n",
      "\tat io.netty.channel.AbstractChannelHandlerContext.fireChannelRead(AbstractChannelHandlerContext.java:357)\n",
      "\tat org.apache.spark.network.util.TransportFrameDecoder.channelRead(TransportFrameDecoder.java:102)\n",
      "\tat io.netty.channel.AbstractChannelHandlerContext.invokeChannelRead(AbstractChannelHandlerContext.java:379)\n",
      "\tat io.netty.channel.AbstractChannelHandlerContext.invokeChannelRead(AbstractChannelHandlerContext.java:365)\n",
      "\tat io.netty.channel.AbstractChannelHandlerContext.fireChannelRead(AbstractChannelHandlerContext.java:357)\n",
      "\tat io.netty.channel.DefaultChannelPipeline$HeadContext.channelRead(DefaultChannelPipeline.java:1410)\n",
      "\tat io.netty.channel.AbstractChannelHandlerContext.invokeChannelRead(AbstractChannelHandlerContext.java:379)\n",
      "\tat io.netty.channel.AbstractChannelHandlerContext.invokeChannelRead(AbstractChannelHandlerContext.java:365)\n",
      "\tat io.netty.channel.DefaultChannelPipeline.fireChannelRead(DefaultChannelPipeline.java:919)\n",
      "\tat io.netty.channel.nio.AbstractNioByteChannel$NioByteUnsafe.read(AbstractNioByteChannel.java:166)\n",
      "\tat io.netty.channel.nio.NioEventLoop.processSelectedKey(NioEventLoop.java:719)\n",
      "\tat io.netty.channel.nio.NioEventLoop.processSelectedKeysOptimized(NioEventLoop.java:655)\n",
      "\tat io.netty.channel.nio.NioEventLoop.processSelectedKeys(NioEventLoop.java:581)\n",
      "\tat io.netty.channel.nio.NioEventLoop.run(NioEventLoop.java:493)\n",
      "\tat io.netty.util.concurrent.SingleThreadEventExecutor$4.run(SingleThreadEventExecutor.java:986)\n",
      "\tat io.netty.util.internal.ThreadExecutorMap$2.run(ThreadExecutorMap.java:74)\n",
      "\tat io.netty.util.concurrent.FastThreadLocalRunnable.run(FastThreadLocalRunnable.java:30)\n",
      "\tat java.lang.Thread.run(Thread.java:748)\n",
      "\n",
      "\tat org.apache.spark.network.client.TransportResponseHandler.handle(TransportResponseHandler.java:209)\n",
      "\tat org.apache.spark.network.server.TransportChannelHandler.channelRead0(TransportChannelHandler.java:142)\n",
      "\tat org.apache.spark.network.server.TransportChannelHandler.channelRead0(TransportChannelHandler.java:53)\n",
      "\tat io.netty.channel.SimpleChannelInboundHandler.channelRead(SimpleChannelInboundHandler.java:99)\n",
      "\tat io.netty.channel.AbstractChannelHandlerContext.invokeChannelRead(AbstractChannelHandlerContext.java:379)\n",
      "\tat io.netty.channel.AbstractChannelHandlerContext.invokeChannelRead(AbstractChannelHandlerContext.java:365)\n",
      "\tat io.netty.channel.AbstractChannelHandlerContext.fireChannelRead(AbstractChannelHandlerContext.java:357)\n",
      "\tat io.netty.handler.timeout.IdleStateHandler.channelRead(IdleStateHandler.java:286)\n",
      "\tat io.netty.channel.AbstractChannelHandlerContext.invokeChannelRead(AbstractChannelHandlerContext.java:379)\n",
      "\tat io.netty.channel.AbstractChannelHandlerContext.invokeChannelRead(AbstractChannelHandlerContext.java:365)\n",
      "\tat io.netty.channel.AbstractChannelHandlerContext.fireChannelRead(AbstractChannelHandlerContext.java:357)\n",
      "\tat io.netty.handler.codec.MessageToMessageDecoder.channelRead(MessageToMessageDecoder.java:103)\n",
      "\tat io.netty.channel.AbstractChannelHandlerContext.invokeChannelRead(AbstractChannelHandlerContext.java:379)\n",
      "\tat io.netty.channel.AbstractChannelHandlerContext.invokeChannelRead(AbstractChannelHandlerContext.java:365)\n",
      "\tat io.netty.channel.AbstractChannelHandlerContext.fireChannelRead(AbstractChannelHandlerContext.java:357)\n",
      "\tat org.apache.spark.network.util.TransportFrameDecoder.channelRead(TransportFrameDecoder.java:102)\n",
      "\tat io.netty.channel.AbstractChannelHandlerContext.invokeChannelRead(AbstractChannelHandlerContext.java:379)\n",
      "\tat io.netty.channel.AbstractChannelHandlerContext.invokeChannelRead(AbstractChannelHandlerContext.java:365)\n",
      "\tat io.netty.channel.AbstractChannelHandlerContext.fireChannelRead(AbstractChannelHandlerContext.java:357)\n",
      "\tat io.netty.channel.DefaultChannelPipeline$HeadContext.channelRead(DefaultChannelPipeline.java:1410)\n",
      "\tat io.netty.channel.AbstractChannelHandlerContext.invokeChannelRead(AbstractChannelHandlerContext.java:379)\n",
      "\tat io.netty.channel.AbstractChannelHandlerContext.invokeChannelRead(AbstractChannelHandlerContext.java:365)\n",
      "\tat io.netty.channel.DefaultChannelPipeline.fireChannelRead(DefaultChannelPipeline.java:919)\n",
      "\tat io.netty.channel.nio.AbstractNioByteChannel$NioByteUnsafe.read(AbstractNioByteChannel.java:166)\n",
      "\tat io.netty.channel.nio.NioEventLoop.processSelectedKey(NioEventLoop.java:719)\n",
      "\tat io.netty.channel.nio.NioEventLoop.processSelectedKeysOptimized(NioEventLoop.java:655)\n",
      "\tat io.netty.channel.nio.NioEventLoop.processSelectedKeys(NioEventLoop.java:581)\n",
      "\tat io.netty.channel.nio.NioEventLoop.run(NioEventLoop.java:493)\n",
      "\tat io.netty.util.concurrent.SingleThreadEventExecutor$4.run(SingleThreadEventExecutor.java:986)\n",
      "\tat io.netty.util.internal.ThreadExecutorMap$2.run(ThreadExecutorMap.java:74)\n",
      "\tat io.netty.util.concurrent.FastThreadLocalRunnable.run(FastThreadLocalRunnable.java:30)\n",
      "\tat java.base/java.lang.Thread.run(Thread.java:829)\n",
      "22/09/20 02:28:45 ERROR ContextCleaner: Error cleaning broadcast 392\n",
      "org.apache.spark.SparkException: Exception thrown in awaitResult: \n",
      "\tat org.apache.spark.util.ThreadUtils$.awaitResult(ThreadUtils.scala:301)\n",
      "\tat org.apache.spark.rpc.RpcTimeout.awaitResult(RpcTimeout.scala:75)\n",
      "\tat org.apache.spark.storage.BlockManagerMaster.removeBroadcast(BlockManagerMaster.scala:194)\n",
      "\tat org.apache.spark.broadcast.TorrentBroadcast$.unpersist(TorrentBroadcast.scala:351)\n",
      "\tat org.apache.spark.broadcast.TorrentBroadcastFactory.unbroadcast(TorrentBroadcastFactory.scala:45)\n",
      "\tat org.apache.spark.broadcast.BroadcastManager.unbroadcast(BroadcastManager.scala:78)\n",
      "\tat org.apache.spark.ContextCleaner.doCleanupBroadcast(ContextCleaner.scala:254)\n",
      "\tat org.apache.spark.ContextCleaner.$anonfun$keepCleaning$3(ContextCleaner.scala:204)\n",
      "\tat org.apache.spark.ContextCleaner.$anonfun$keepCleaning$3$adapted(ContextCleaner.scala:195)\n",
      "\tat scala.Option.foreach(Option.scala:407)\n",
      "\tat org.apache.spark.ContextCleaner.$anonfun$keepCleaning$1(ContextCleaner.scala:195)\n",
      "\tat org.apache.spark.util.Utils$.tryOrStopSparkContext(Utils.scala:1404)\n",
      "\tat org.apache.spark.ContextCleaner.org$apache$spark$ContextCleaner$$keepCleaning(ContextCleaner.scala:189)\n",
      "\tat org.apache.spark.ContextCleaner$$anon$1.run(ContextCleaner.scala:79)\n",
      "Caused by: java.lang.RuntimeException: org.apache.spark.SparkException: Could not find BlockManagerEndpoint1.\n",
      "\tat org.apache.spark.rpc.netty.Dispatcher.postMessage(Dispatcher.scala:178)\n",
      "\tat org.apache.spark.rpc.netty.Dispatcher.postRemoteMessage(Dispatcher.scala:136)\n",
      "\tat org.apache.spark.rpc.netty.NettyRpcHandler.receive(NettyRpcEnv.scala:684)\n",
      "\tat org.apache.spark.network.server.TransportRequestHandler.processRpcRequest(TransportRequestHandler.java:163)\n",
      "\tat org.apache.spark.network.server.TransportRequestHandler.handle(TransportRequestHandler.java:109)\n",
      "\tat org.apache.spark.network.server.TransportChannelHandler.channelRead0(TransportChannelHandler.java:140)\n",
      "\tat org.apache.spark.network.server.TransportChannelHandler.channelRead0(TransportChannelHandler.java:53)\n",
      "\tat io.netty.channel.SimpleChannelInboundHandler.channelRead(SimpleChannelInboundHandler.java:99)\n",
      "\tat io.netty.channel.AbstractChannelHandlerContext.invokeChannelRead(AbstractChannelHandlerContext.java:379)\n",
      "\tat io.netty.channel.AbstractChannelHandlerContext.invokeChannelRead(AbstractChannelHandlerContext.java:365)\n",
      "\tat io.netty.channel.AbstractChannelHandlerContext.fireChannelRead(AbstractChannelHandlerContext.java:357)\n",
      "\tat io.netty.handler.timeout.IdleStateHandler.channelRead(IdleStateHandler.java:286)\n",
      "\tat io.netty.channel.AbstractChannelHandlerContext.invokeChannelRead(AbstractChannelHandlerContext.java:379)\n",
      "\tat io.netty.channel.AbstractChannelHandlerContext.invokeChannelRead(AbstractChannelHandlerContext.java:365)\n",
      "\tat io.netty.channel.AbstractChannelHandlerContext.fireChannelRead(AbstractChannelHandlerContext.java:357)\n",
      "\tat io.netty.handler.codec.MessageToMessageDecoder.channelRead(MessageToMessageDecoder.java:103)\n",
      "\tat io.netty.channel.AbstractChannelHandlerContext.invokeChannelRead(AbstractChannelHandlerContext.java:379)\n",
      "\tat io.netty.channel.AbstractChannelHandlerContext.invokeChannelRead(AbstractChannelHandlerContext.java:365)\n",
      "\tat io.netty.channel.AbstractChannelHandlerContext.fireChannelRead(AbstractChannelHandlerContext.java:357)\n",
      "\tat org.apache.spark.network.util.TransportFrameDecoder.channelRead(TransportFrameDecoder.java:102)\n",
      "\tat io.netty.channel.AbstractChannelHandlerContext.invokeChannelRead(AbstractChannelHandlerContext.java:379)\n",
      "\tat io.netty.channel.AbstractChannelHandlerContext.invokeChannelRead(AbstractChannelHandlerContext.java:365)\n",
      "\tat io.netty.channel.AbstractChannelHandlerContext.fireChannelRead(AbstractChannelHandlerContext.java:357)\n",
      "\tat io.netty.channel.DefaultChannelPipeline$HeadContext.channelRead(DefaultChannelPipeline.java:1410)\n",
      "\tat io.netty.channel.AbstractChannelHandlerContext.invokeChannelRead(AbstractChannelHandlerContext.java:379)\n",
      "\tat io.netty.channel.AbstractChannelHandlerContext.invokeChannelRead(AbstractChannelHandlerContext.java:365)\n",
      "\tat io.netty.channel.DefaultChannelPipeline.fireChannelRead(DefaultChannelPipeline.java:919)\n",
      "\tat io.netty.channel.nio.AbstractNioByteChannel$NioByteUnsafe.read(AbstractNioByteChannel.java:166)\n",
      "\tat io.netty.channel.nio.NioEventLoop.processSelectedKey(NioEventLoop.java:719)\n",
      "\tat io.netty.channel.nio.NioEventLoop.processSelectedKeysOptimized(NioEventLoop.java:655)\n",
      "\tat io.netty.channel.nio.NioEventLoop.processSelectedKeys(NioEventLoop.java:581)\n",
      "\tat io.netty.channel.nio.NioEventLoop.run(NioEventLoop.java:493)\n",
      "\tat io.netty.util.concurrent.SingleThreadEventExecutor$4.run(SingleThreadEventExecutor.java:986)\n",
      "\tat io.netty.util.internal.ThreadExecutorMap$2.run(ThreadExecutorMap.java:74)\n",
      "\tat io.netty.util.concurrent.FastThreadLocalRunnable.run(FastThreadLocalRunnable.java:30)\n",
      "\tat java.lang.Thread.run(Thread.java:748)\n",
      "\n",
      "\tat org.apache.spark.network.client.TransportResponseHandler.handle(TransportResponseHandler.java:209)\n",
      "\tat org.apache.spark.network.server.TransportChannelHandler.channelRead0(TransportChannelHandler.java:142)\n",
      "\tat org.apache.spark.network.server.TransportChannelHandler.channelRead0(TransportChannelHandler.java:53)\n",
      "\tat io.netty.channel.SimpleChannelInboundHandler.channelRead(SimpleChannelInboundHandler.java:99)\n",
      "\tat io.netty.channel.AbstractChannelHandlerContext.invokeChannelRead(AbstractChannelHandlerContext.java:379)\n",
      "\tat io.netty.channel.AbstractChannelHandlerContext.invokeChannelRead(AbstractChannelHandlerContext.java:365)\n",
      "\tat io.netty.channel.AbstractChannelHandlerContext.fireChannelRead(AbstractChannelHandlerContext.java:357)\n",
      "\tat io.netty.handler.timeout.IdleStateHandler.channelRead(IdleStateHandler.java:286)\n",
      "\tat io.netty.channel.AbstractChannelHandlerContext.invokeChannelRead(AbstractChannelHandlerContext.java:379)\n",
      "\tat io.netty.channel.AbstractChannelHandlerContext.invokeChannelRead(AbstractChannelHandlerContext.java:365)\n",
      "\tat io.netty.channel.AbstractChannelHandlerContext.fireChannelRead(AbstractChannelHandlerContext.java:357)\n",
      "\tat io.netty.handler.codec.MessageToMessageDecoder.channelRead(MessageToMessageDecoder.java:103)\n",
      "\tat io.netty.channel.AbstractChannelHandlerContext.invokeChannelRead(AbstractChannelHandlerContext.java:379)\n",
      "\tat io.netty.channel.AbstractChannelHandlerContext.invokeChannelRead(AbstractChannelHandlerContext.java:365)\n",
      "\tat io.netty.channel.AbstractChannelHandlerContext.fireChannelRead(AbstractChannelHandlerContext.java:357)\n",
      "\tat org.apache.spark.network.util.TransportFrameDecoder.channelRead(TransportFrameDecoder.java:102)\n",
      "\tat io.netty.channel.AbstractChannelHandlerContext.invokeChannelRead(AbstractChannelHandlerContext.java:379)\n",
      "\tat io.netty.channel.AbstractChannelHandlerContext.invokeChannelRead(AbstractChannelHandlerContext.java:365)\n",
      "\tat io.netty.channel.AbstractChannelHandlerContext.fireChannelRead(AbstractChannelHandlerContext.java:357)\n",
      "\tat io.netty.channel.DefaultChannelPipeline$HeadContext.channelRead(DefaultChannelPipeline.java:1410)\n",
      "\tat io.netty.channel.AbstractChannelHandlerContext.invokeChannelRead(AbstractChannelHandlerContext.java:379)\n",
      "\tat io.netty.channel.AbstractChannelHandlerContext.invokeChannelRead(AbstractChannelHandlerContext.java:365)\n",
      "\tat io.netty.channel.DefaultChannelPipeline.fireChannelRead(DefaultChannelPipeline.java:919)\n",
      "\tat io.netty.channel.nio.AbstractNioByteChannel$NioByteUnsafe.read(AbstractNioByteChannel.java:166)\n",
      "\tat io.netty.channel.nio.NioEventLoop.processSelectedKey(NioEventLoop.java:719)\n",
      "\tat io.netty.channel.nio.NioEventLoop.processSelectedKeysOptimized(NioEventLoop.java:655)\n",
      "\tat io.netty.channel.nio.NioEventLoop.processSelectedKeys(NioEventLoop.java:581)\n",
      "\tat io.netty.channel.nio.NioEventLoop.run(NioEventLoop.java:493)\n",
      "\tat io.netty.util.concurrent.SingleThreadEventExecutor$4.run(SingleThreadEventExecutor.java:986)\n",
      "\tat io.netty.util.internal.ThreadExecutorMap$2.run(ThreadExecutorMap.java:74)\n",
      "\tat io.netty.util.concurrent.FastThreadLocalRunnable.run(FastThreadLocalRunnable.java:30)\n",
      "\tat java.base/java.lang.Thread.run(Thread.java:829)\n"
     ]
    },
    {
     "name": "stdout",
     "output_type": "stream",
     "text": [
      "{31: {'count': 70}, 53: {'count': 93}, 34: {'count': 55}, 28: {'count': 59}, 27: {'count': 11}, 44: {'count': 68}, 12: {'count': 15}, 22: {'count': 36}, 47: {'count': 106}, 1: {'count': 367}, 52: {'count': 61}, 26: {'count': 12}, 13: {'count': 97}, 16: {'count': 76}, 6: {'count': 191}, 3: {'count': 70}, 40: {'count': 66}, 20: {'count': 30}, 57: {'count': 170}, 54: {'count': 88}, 48: {'count': 73}, 5: {'count': 65}, 19: {'count': 50}, 41: {'count': 603}, 15: {'count': 53}, 43: {'count': 56}, 37: {'count': 24}, 17: {'count': 76}, 9: {'count': 26}, 35: {'count': 69}, 55: {'count': 99}, 59: {'count': 187}, 4: {'count': 84}, 8: {'count': 287}, 23: {'count': 116}, 39: {'count': 85}, 49: {'count': 31}, 7: {'count': 94}, 51: {'count': 7}, 10: {'count': 51}, 50: {'count': 26}, 45: {'count': 65}, 38: {'count': 272}, 25: {'count': 26}, 24: {'count': 153}, 29: {'count': 38}, 21: {'count': 22}, 32: {'count': 36}, 56: {'count': 186}, 11: {'count': 64}, 33: {'count': 65}, 14: {'count': 98}, 42: {'count': 35}, 2: {'count': 775}, 30: {'count': 14}, 46: {'count': 153}, 0: {'count': 19347}, 18: {'count': 124}, 36: {'count': 61}}\n"
     ]
    },
    {
     "data": {
      "text/plain": [
       "<AxesSubplot:>"
      ]
     },
     "execution_count": 41,
     "metadata": {},
     "output_type": "execute_result"
    },
    {
     "data": {
      "image/png": "[encoded data removed]",
      "text/plain": [
       "<Figure size 1152x576 with 1 Axes>"
      ]
     },
     "metadata": {
      "needs_background": "light"
     },
     "output_type": "display_data"
    }
   ],
   "source": [
    "#Create and plot lifetime histogram for total datasets\n",
    "hist_all_lifetime = get_datatier_histograms(df_lifetime, \"Lifetime\", n_bins=59)\n",
    "pd.DataFrame.from_dict(hist_all_lifetime, orient='index').sort_index().plot.bar(figsize=(16,8))"
   ]
  },
  {
   "cell_type": "code",
   "execution_count": 42,
   "id": "e402ed88",
   "metadata": {
    "ExecuteTime": {
     "end_time": "2022-09-20T01:53:10.899280Z",
     "start_time": "2022-09-20T00:57:18.929447Z"
    }
   },
   "outputs": [
    {
     "name": "stdout",
     "output_type": "stream",
     "text": [
      "{31: {'MINIAOD': 8, 'MINIAODSIM': 35, 'AOD': None, 'AODSIM': 1}, 53: {'MINIAOD': 38, 'MINIAODSIM': 37, 'AOD': 7, 'AODSIM': None}, 34: {'MINIAOD': 22, 'MINIAODSIM': 22, 'AOD': 3, 'AODSIM': None}, 28: {'MINIAOD': 2, 'MINIAODSIM': 36, 'AOD': 17, 'AODSIM': None}, 26: {'MINIAOD': 2, 'MINIAODSIM': 8, 'AOD': None, 'AODSIM': 1}, 27: {'MINIAOD': 1, 'MINIAODSIM': 9, 'AOD': None, 'AODSIM': None}, 44: {'MINIAOD': None, 'MINIAODSIM': 48, 'AOD': 5, 'AODSIM': None}, 12: {'MINIAOD': None, 'MINIAODSIM': 4, 'AOD': 5, 'AODSIM': 1}, 22: {'MINIAOD': 1, 'MINIAODSIM': 24, 'AOD': 2, 'AODSIM': None}, 47: {'MINIAOD': 2, 'MINIAODSIM': 31, 'AOD': None, 'AODSIM': 3}, 1: {'MINIAOD': 22, 'MINIAODSIM': 153, 'AOD': 8, 'AODSIM': 3}, 52: {'MINIAOD': 9, 'MINIAODSIM': 36, 'AOD': 1, 'AODSIM': None}, 13: {'MINIAOD': None, 'MINIAODSIM': 68, 'AOD': 5, 'AODSIM': None}, 16: {'MINIAOD': None, 'MINIAODSIM': 7, 'AOD': 4, 'AODSIM': None}, 6: {'MINIAOD': 16, 'MINIAODSIM': 75, 'AOD': 1, 'AODSIM': 14}, 3: {'MINIAOD': 2, 'MINIAODSIM': 40, 'AOD': 3, 'AODSIM': 3}, 20: {'MINIAOD': 2, 'MINIAODSIM': 19, 'AOD': 2, 'AODSIM': 1}, 40: {'MINIAOD': 3, 'MINIAODSIM': 13, 'AOD': 5, 'AODSIM': None}, 57: {'MINIAOD': 66, 'MINIAODSIM': 83, 'AOD': None, 'AODSIM': 13}, 54: {'MINIAOD': 27, 'MINIAODSIM': 33, 'AOD': 4, 'AODSIM': 1}, 48: {'MINIAOD': 8, 'MINIAODSIM': 32, 'AOD': None, 'AODSIM': None}, 5: {'MINIAOD': 3, 'MINIAODSIM': 11, 'AOD': 3, 'AODSIM': 2}, 19: {'MINIAOD': 6, 'MINIAODSIM': 33, 'AOD': 3, 'AODSIM': 2}, 41: {'MINIAOD': 40, 'MINIAODSIM': 551, 'AOD': None, 'AODSIM': None}, 43: {'MINIAOD': 20, 'MINIAODSIM': 6, 'AOD': 1, 'AODSIM': None}, 15: {'MINIAOD': 8, 'MINIAODSIM': 38, 'AOD': 3, 'AODSIM': None}, 37: {'MINIAOD': 11, 'MINIAODSIM': 4, 'AOD': None, 'AODSIM': None}, 17: {'MINIAOD': None, 'MINIAODSIM': 67, 'AOD': None, 'AODSIM': 1}, 9: {'MINIAOD': 4, 'MINIAODSIM': 4, 'AOD': None, 'AODSIM': 3}, 35: {'MINIAOD': 5, 'MINIAODSIM': 53, 'AOD': 3, 'AODSIM': 1}, 4: {'MINIAOD': 22, 'MINIAODSIM': 25, 'AOD': 1, 'AODSIM': 2}, 55: {'MINIAOD': 15, 'MINIAODSIM': 77, 'AOD': 4, 'AODSIM': None}, 59: {'MINIAOD': 49, 'MINIAODSIM': 123, 'AOD': 1, 'AODSIM': 1}, 8: {'MINIAOD': None, 'MINIAODSIM': 281, 'AOD': 1, 'AODSIM': 1}, 23: {'MINIAOD': 5, 'MINIAODSIM': 2, 'AOD': 1, 'AODSIM': 25}, 39: {'MINIAOD': 4, 'MINIAODSIM': 64, 'AOD': 2, 'AODSIM': 2}, 49: {'MINIAOD': 3, 'MINIAODSIM': 13, 'AOD': 2, 'AODSIM': None}, 7: {'MINIAOD': 1, 'MINIAODSIM': 32, 'AOD': 1, 'AODSIM': 10}, 51: {'MINIAOD': 1, 'MINIAODSIM': None, 'AOD': 1, 'AODSIM': None}, 10: {'MINIAOD': 2, 'MINIAODSIM': 6, 'AOD': None, 'AODSIM': 6}, 50: {'MINIAOD': 2, 'MINIAODSIM': 2, 'AOD': 2, 'AODSIM': None}, 45: {'MINIAOD': 6, 'MINIAODSIM': 32, 'AOD': None, 'AODSIM': None}, 38: {'MINIAOD': 21, 'MINIAODSIM': 74, 'AOD': None, 'AODSIM': 9}, 25: {'MINIAOD': None, 'MINIAODSIM': 16, 'AOD': 1, 'AODSIM': 2}, 24: {'MINIAOD': 7, 'MINIAODSIM': 81, 'AOD': None, 'AODSIM': 63}, 29: {'MINIAOD': 7, 'MINIAODSIM': 15, 'AOD': 3, 'AODSIM': 9}, 21: {'MINIAOD': 2, 'MINIAODSIM': 15, 'AOD': 1, 'AODSIM': 1}, 32: {'MINIAOD': 6, 'MINIAODSIM': 19, 'AOD': 5, 'AODSIM': 3}, 56: {'MINIAOD': 30, 'MINIAODSIM': 81, 'AOD': 1, 'AODSIM': 12}, 11: {'MINIAOD': 2, 'MINIAODSIM': 23, 'AOD': 2, 'AODSIM': 3}, 33: {'MINIAOD': 3, 'MINIAODSIM': 48, 'AOD': 1, 'AODSIM': None}, 14: {'MINIAOD': 5, 'MINIAODSIM': 58, 'AOD': 4, 'AODSIM': 3}, 42: {'MINIAOD': 5, 'MINIAODSIM': 12, 'AOD': None, 'AODSIM': 4}, 2: {'MINIAOD': 2, 'MINIAODSIM': 16, 'AOD': 3, 'AODSIM': 1}, 30: {'MINIAOD': 1, 'MINIAODSIM': 6, 'AOD': None, 'AODSIM': 1}, 46: {'MINIAOD': 7, 'MINIAODSIM': 41, 'AOD': 2, 'AODSIM': None}, 0: {'MINIAOD': 347, 'MINIAODSIM': 10653, 'AOD': 348, 'AODSIM': 515}, 18: {'MINIAOD': 1, 'MINIAODSIM': 77, 'AOD': 21, 'AODSIM': 2}, 36: {'MINIAOD': 6, 'MINIAODSIM': 45, 'AOD': 1, 'AODSIM': 1}}\n"
     ]
    },
    {
     "data": {
      "text/plain": [
       "<AxesSubplot:>"
      ]
     },
     "execution_count": 42,
     "metadata": {},
     "output_type": "execute_result"
    },
    {
     "data": {
      "image/png": "[encoded data removed]",
      "text/plain": [
       "<Figure size 1152x576 with 1 Axes>"
      ]
     },
     "metadata": {
      "needs_background": "light"
     },
     "output_type": "display_data"
    }
   ],
   "source": [
    "#Create and plot histogram for dataset lifetime by datatiers\n",
    "hist_datatier_lifetime = get_datatier_histograms(df_lifetime, \"Lifetime\", \"CMSPrimaryDataTier\", [\"MINIAOD\",\"MINIAODSIM\",\"AOD\",\"AODSIM\"], 59)\n",
    "pd.DataFrame.from_dict(hist_datatier_lifetime, orient='index').sort_index().plot.bar(figsize=(16,8))"
   ]
  },
  {
   "cell_type": "code",
   "execution_count": 43,
   "id": "c3ed054a",
   "metadata": {
    "ExecuteTime": {
     "end_time": "2022-09-20T02:52:06.806508Z",
     "start_time": "2022-09-20T01:53:10.902338Z"
    }
   },
   "outputs": [
    {
     "name": "stdout",
     "output_type": "stream",
     "text": [
      "{59: {'count': 1}, 0: {'count': 25436}}\n"
     ]
    },
    {
     "data": {
      "text/plain": [
       "<AxesSubplot:>"
      ]
     },
     "execution_count": 43,
     "metadata": {},
     "output_type": "execute_result"
    },
    {
     "data": {
      "image/png": "[encoded data removed]",
      "text/plain": [
       "<Figure size 1152x576 with 1 Axes>"
      ]
     },
     "metadata": {
      "needs_background": "light"
     },
     "output_type": "display_data"
    }
   ],
   "source": [
    "#Create and plot weighted lifetime histogram for total datasets\n",
    "hist_all_weighted_lifetime = get_datatier_histograms(df_lifetime, \"WeightedLifetime\", n_bins=59)\n",
    "pd.DataFrame.from_dict(hist_all_weighted_lifetime, orient='index').sort_index().plot.bar(figsize=(16,8))"
   ]
  },
  {
   "cell_type": "code",
   "execution_count": 44,
   "id": "72e284d6",
   "metadata": {
    "ExecuteTime": {
     "end_time": "2022-09-20T03:50:21.796642Z",
     "start_time": "2022-09-20T02:52:06.809641Z"
    }
   },
   "outputs": [
    {
     "name": "stdout",
     "output_type": "stream",
     "text": [
      "{59: {'MINIAOD': None, 'MINIAODSIM': None, 'AOD': None, 'AODSIM': 1}, 0: {'MINIAOD': 890, 'MINIAODSIM': 13517, 'AOD': 494, 'AODSIM': 725}}\n"
     ]
    },
    {
     "data": {
      "text/plain": [
       "<AxesSubplot:>"
      ]
     },
     "execution_count": 44,
     "metadata": {},
     "output_type": "execute_result"
    },
    {
     "data": {
      "image/png": "[encoded data removed]",
      "text/plain": [
       "<Figure size 1152x576 with 1 Axes>"
      ]
     },
     "metadata": {
      "needs_background": "light"
     },
     "output_type": "display_data"
    }
   ],
   "source": [
    "#Create and plot weighted lifetime histogram for dataset lifetime by datatiers\n",
    "hist_datatier_weighted_lifetime = get_datatier_histograms(df_lifetime, \"WeightedLifetime\", \"CMSPrimaryDataTier\", [\"MINIAOD\",\"MINIAODSIM\",\"AOD\",\"AODSIM\"], 59)\n",
    "pd.DataFrame.from_dict(hist_datatier_weighted_lifetime, orient='index').sort_index().plot.bar(figsize=(16,8))"
   ]
  },
  {
   "cell_type": "code",
   "execution_count": null,
   "id": "b5ee676e",
   "metadata": {},
   "outputs": [],
   "source": []
  },
  {
   "cell_type": "code",
   "execution_count": null,
   "id": "16576861",
   "metadata": {},
   "outputs": [],
   "source": []
  },
  {
   "cell_type": "code",
   "execution_count": null,
   "id": "aee2a393",
   "metadata": {},
   "outputs": [],
   "source": []
  },
  {
   "cell_type": "markdown",
   "id": "df6deb80",
   "metadata": {},
   "source": [
    "### [MEDIUM] histogram with the avg frequency distribution of the datasets in the last 2y\n",
    "\t- normal histo\n",
    "\n",
    "> **We calculate frequency as count of dataset occurence in different workflows on different dates**"
   ]
  },
  {
   "cell_type": "code",
   "execution_count": 45,
   "id": "1f85f1d4",
   "metadata": {
    "ExecuteTime": {
     "end_time": "2022-09-20T03:50:21.806412Z",
     "start_time": "2022-09-20T03:50:21.801051Z"
    }
   },
   "outputs": [],
   "source": [
    "def get_df_dataset_datewise_frequency(n_days):\n",
    "    today = date.today()\n",
    "    df_ndays = get_dataset_per_day(n_days, today, datewiseUnique=True)\n",
    "    df_freq = df_ndays\\\n",
    "                .groupby([\"DESIRED_CMSDataset\", \"CMSPrimaryDataTier\"])\\\n",
    "                .agg(func.count('RecordDate').alias(\"CountDistinctDates\"))\n",
    "    return df_freq"
   ]
  },
  {
   "cell_type": "code",
   "execution_count": 46,
   "id": "05e65072",
   "metadata": {
    "ExecuteTime": {
     "end_time": "2022-09-20T03:50:22.776668Z",
     "start_time": "2022-09-20T03:50:21.808701Z"
    }
   },
   "outputs": [],
   "source": [
    "df_datewise_freq = get_df_dataset_datewise_frequency(60) "
   ]
  },
  {
   "cell_type": "code",
   "execution_count": 47,
   "id": "c3f5ff3d",
   "metadata": {
    "ExecuteTime": {
     "end_time": "2022-09-20T04:47:16.398474Z",
     "start_time": "2022-09-20T03:50:22.780311Z"
    }
   },
   "outputs": [
    {
     "name": "stdout",
     "output_type": "stream",
     "text": [
      "{28: {'count': 5}, 12: {'count': 20}, 1: {'count': 2995}, 13: {'count': 18}, 27: {'count': 2}, 22: {'count': 3}, 6: {'count': 143}, 16: {'count': 23}, 3: {'count': 720}, 5: {'count': 267}, 19: {'count': 5}, 40: {'count': 2}, 20: {'count': 1}, 15: {'count': 12}, 31: {'count': 1}, 17: {'count': 13}, 9: {'count': 64}, 35: {'count': 1}, 4: {'count': 728}, 59: {'count': 1}, 8: {'count': 79}, 39: {'count': 4}, 23: {'count': 3}, 7: {'count': 125}, 10: {'count': 28}, 37: {'count': 3}, 38: {'count': 6}, 29: {'count': 4}, 21: {'count': 1}, 32: {'count': 1}, 11: {'count': 23}, 14: {'count': 16}, 2: {'count': 838}, 0: {'count': 19355}, 18: {'count': 4}, 36: {'count': 7}, 30: {'count': 1}}\n"
     ]
    },
    {
     "data": {
      "text/plain": [
       "<AxesSubplot:>"
      ]
     },
     "execution_count": 47,
     "metadata": {},
     "output_type": "execute_result"
    },
    {
     "data": {
      "image/png": "[encoded data removed]",
      "text/plain": [
       "<Figure size 1152x576 with 1 Axes>"
      ]
     },
     "metadata": {
      "needs_background": "light"
     },
     "output_type": "display_data"
    }
   ],
   "source": [
    "#Create and plot histogram for dataset frequency\n",
    "hist_all_frequency = get_datatier_histograms(df_datewise_freq, \"CountDistinctDates\", n_bins=59)\n",
    "pd.DataFrame.from_dict(hist_all_frequency, orient='index').sort_index().plot.bar(figsize=(16,8))"
   ]
  },
  {
   "cell_type": "code",
   "execution_count": 48,
   "id": "596d36c9",
   "metadata": {
    "ExecuteTime": {
     "end_time": "2022-09-20T05:43:04.730350Z",
     "start_time": "2022-09-20T04:47:16.402946Z"
    }
   },
   "outputs": [
    {
     "name": "stdout",
     "output_type": "stream",
     "text": [
      "{31: {'MINIAOD': 1, 'MINIAODSIM': None, 'AOD': None, 'AODSIM': None}, 28: {'MINIAOD': 4, 'MINIAODSIM': None, 'AOD': None, 'AODSIM': 1}, 27: {'MINIAOD': 1, 'MINIAODSIM': None, 'AOD': None, 'AODSIM': None}, 12: {'MINIAOD': 3, 'MINIAODSIM': 14, 'AOD': None, 'AODSIM': None}, 22: {'MINIAOD': 1, 'MINIAODSIM': 2, 'AOD': None, 'AODSIM': None}, 1: {'MINIAOD': 169, 'MINIAODSIM': 1286, 'AOD': 48, 'AODSIM': 50}, 13: {'MINIAOD': 1, 'MINIAODSIM': 12, 'AOD': 1, 'AODSIM': None}, 16: {'MINIAOD': 19, 'MINIAODSIM': None, 'AOD': None, 'AODSIM': 1}, 6: {'MINIAOD': 27, 'MINIAODSIM': 63, 'AOD': 5, 'AODSIM': 6}, 3: {'MINIAOD': 69, 'MINIAODSIM': 363, 'AOD': 17, 'AODSIM': 15}, 20: {'MINIAOD': None, 'MINIAODSIM': None, 'AOD': None, 'AODSIM': None}, 40: {'MINIAOD': None, 'MINIAODSIM': None, 'AOD': None, 'AODSIM': 2}, 5: {'MINIAOD': 39, 'MINIAODSIM': 85, 'AOD': 6, 'AODSIM': None}, 19: {'MINIAOD': 1, 'MINIAODSIM': 3, 'AOD': None, 'AODSIM': None}, 15: {'MINIAOD': 8, 'MINIAODSIM': 3, 'AOD': None, 'AODSIM': None}, 37: {'MINIAOD': None, 'MINIAODSIM': None, 'AOD': None, 'AODSIM': 3}, 17: {'MINIAOD': 8, 'MINIAODSIM': 2, 'AOD': 1, 'AODSIM': None}, 9: {'MINIAOD': 18, 'MINIAODSIM': 28, 'AOD': 4, 'AODSIM': 1}, 35: {'MINIAOD': None, 'MINIAODSIM': None, 'AOD': None, 'AODSIM': 1}, 4: {'MINIAOD': 45, 'MINIAODSIM': 563, 'AOD': 26, 'AODSIM': 5}, 59: {'MINIAOD': None, 'MINIAODSIM': None, 'AOD': None, 'AODSIM': 1}, 8: {'MINIAOD': 22, 'MINIAODSIM': 21, 'AOD': 5, 'AODSIM': None}, 39: {'MINIAOD': None, 'MINIAODSIM': None, 'AOD': None, 'AODSIM': 4}, 23: {'MINIAOD': 3, 'MINIAODSIM': None, 'AOD': None, 'AODSIM': None}, 7: {'MINIAOD': 33, 'MINIAODSIM': 28, 'AOD': 5, 'AODSIM': None}, 10: {'MINIAOD': 5, 'MINIAODSIM': 16, 'AOD': 1, 'AODSIM': 1}, 38: {'MINIAOD': None, 'MINIAODSIM': 1, 'AOD': None, 'AODSIM': 5}, 29: {'MINIAOD': 2, 'MINIAODSIM': None, 'AOD': None, 'AODSIM': 2}, 21: {'MINIAOD': 1, 'MINIAODSIM': None, 'AOD': None, 'AODSIM': None}, 32: {'MINIAOD': None, 'MINIAODSIM': None, 'AOD': 1, 'AODSIM': None}, 11: {'MINIAOD': 9, 'MINIAODSIM': 8, 'AOD': 1, 'AODSIM': None}, 14: {'MINIAOD': 5, 'MINIAODSIM': 8, 'AOD': None, 'AODSIM': None}, 2: {'MINIAOD': 60, 'MINIAODSIM': 406, 'AOD': 24, 'AODSIM': 106}, 30: {'MINIAOD': None, 'MINIAODSIM': 1, 'AOD': None, 'AODSIM': None}, 0: {'MINIAOD': 334, 'MINIAODSIM': 10646, 'AOD': 348, 'AODSIM': 515}, 18: {'MINIAOD': 2, 'MINIAODSIM': 1, 'AOD': 1, 'AODSIM': None}, 36: {'MINIAOD': None, 'MINIAODSIM': None, 'AOD': None, 'AODSIM': 7}}\n"
     ]
    },
    {
     "data": {
      "text/plain": [
       "<AxesSubplot:>"
      ]
     },
     "execution_count": 48,
     "metadata": {},
     "output_type": "execute_result"
    },
    {
     "data": {
      "image/png": "[encoded data removed]",
      "text/plain": [
       "<Figure size 1152x576 with 1 Axes>"
      ]
     },
     "metadata": {
      "needs_background": "light"
     },
     "output_type": "display_data"
    }
   ],
   "source": [
    "#Create and plot histogram for dataset frequency by datatiers\n",
    "hist_datatier_frequency = get_datatier_histograms(df_datewise_freq, \"CountDistinctDates\", \"CMSPrimaryDataTier\", [\"MINIAOD\",\"MINIAODSIM\",\"AOD\",\"AODSIM\"], 59)\n",
    "pd.DataFrame.from_dict(hist_datatier_frequency, orient='index').sort_index().plot.bar(figsize=(16,8))"
   ]
  },
  {
   "cell_type": "code",
   "execution_count": null,
   "id": "2058d20b",
   "metadata": {},
   "outputs": [],
   "source": []
  },
  {
   "cell_type": "markdown",
   "id": "f65a40e7",
   "metadata": {},
   "source": [
    "### [LOW] histogram with the dataset reuse distribution: number of different crab worflow requesting the ds\n",
    "\t- measuring in this way how much a LRU caching can help\n",
    "\n",
    "> **1.We calculate reuse as count of dataset occurence in different workflows**\n",
    "\n",
    "> **2.We calculate reuse as count of dataset occurence in different workflows on same date**"
   ]
  },
  {
   "cell_type": "markdown",
   "id": "9a24c7ea",
   "metadata": {},
   "source": [
    "**reuse == count of dataset occurence in different workflows**"
   ]
  },
  {
   "cell_type": "code",
   "execution_count": 49,
   "id": "f37a58dc",
   "metadata": {
    "ExecuteTime": {
     "end_time": "2022-09-20T06:38:02.770094Z",
     "start_time": "2022-09-20T05:43:04.733029Z"
    }
   },
   "outputs": [
    {
     "name": "stdout",
     "output_type": "stream",
     "text": [
      "{1: {'count': 1}, 0: {'count': 25435}, 59: {'count': 1}}\n"
     ]
    },
    {
     "data": {
      "text/plain": [
       "<AxesSubplot:>"
      ]
     },
     "execution_count": 49,
     "metadata": {},
     "output_type": "execute_result"
    },
    {
     "data": {
      "image/png": "[encoded data removed]",
      "text/plain": [
       "<Figure size 1152x576 with 1 Axes>"
      ]
     },
     "metadata": {
      "needs_background": "light"
     },
     "output_type": "display_data"
    }
   ],
   "source": [
    "\n",
    "#Create and plot count histogram for total datasets\n",
    "hist_all_count = get_datatier_histograms(df_lifetime, \"Count\", n_bins=59)\n",
    "pd.DataFrame.from_dict(hist_all_count, orient='index').sort_index().plot.bar(figsize=(16,8))"
   ]
  },
  {
   "cell_type": "code",
   "execution_count": 50,
   "id": "08888eea",
   "metadata": {
    "ExecuteTime": {
     "end_time": "2022-09-20T07:31:57.989256Z",
     "start_time": "2022-09-20T06:38:02.773285Z"
    }
   },
   "outputs": [
    {
     "name": "stdout",
     "output_type": "stream",
     "text": [
      "{1: {'MINIAOD': None, 'MINIAODSIM': None, 'AOD': None, 'AODSIM': 1}, 59: {'MINIAOD': None, 'MINIAODSIM': None, 'AOD': None, 'AODSIM': 1}, 0: {'MINIAOD': 890, 'MINIAODSIM': 13517, 'AOD': 494, 'AODSIM': 724}}\n"
     ]
    },
    {
     "data": {
      "text/plain": [
       "<AxesSubplot:>"
      ]
     },
     "execution_count": 50,
     "metadata": {},
     "output_type": "execute_result"
    },
    {
     "data": {
      "image/png": "[encoded data removed]",
      "text/plain": [
       "<Figure size 1152x576 with 1 Axes>"
      ]
     },
     "metadata": {
      "needs_background": "light"
     },
     "output_type": "display_data"
    }
   ],
   "source": [
    "#Create and plot count histogram for dataset by datatiers\n",
    "hist_datatier_count = get_datatier_histograms(df_lifetime, \"Count\", \"CMSPrimaryDataTier\", [\"MINIAOD\",\"MINIAODSIM\",\"AOD\",\"AODSIM\"], 59)\n",
    "pd.DataFrame.from_dict(hist_datatier_count, orient='index').sort_index().plot.bar(figsize=(16,8))"
   ]
  },
  {
   "cell_type": "markdown",
   "id": "80d7116b",
   "metadata": {},
   "source": [
    "**reuse == count of dataset occurence in different workflows on same date**"
   ]
  },
  {
   "cell_type": "code",
   "execution_count": 51,
   "id": "268cc1c9",
   "metadata": {
    "ExecuteTime": {
     "end_time": "2022-09-20T07:31:57.998225Z",
     "start_time": "2022-09-20T07:31:57.992014Z"
    }
   },
   "outputs": [],
   "source": [
    "def get_df_dataset_reuse_frequency(n_days):\n",
    "    today = date.today()\n",
    "    df_ndays = get_dataset_per_day(n_days, today, datewiseUnique=False)\n",
    "    df_reuse = df_ndays\\\n",
    "                .groupby([\"DESIRED_CMSDataset\", \"CMSPrimaryDataTier\", \"RecordDate\"])\\\n",
    "                .agg(func.count(lit(1)).alias(\"ReuseCount\"))\n",
    "    return df_reuse"
   ]
  },
  {
   "cell_type": "code",
   "execution_count": 52,
   "id": "b8a6fa3c",
   "metadata": {
    "ExecuteTime": {
     "end_time": "2022-09-20T07:31:58.906127Z",
     "start_time": "2022-09-20T07:31:58.000653Z"
    }
   },
   "outputs": [],
   "source": [
    "df_dataset_reuse = get_df_dataset_reuse_frequency(60)"
   ]
  },
  {
   "cell_type": "code",
   "execution_count": 53,
   "id": "dcc198bb",
   "metadata": {
    "ExecuteTime": {
     "end_time": "2022-09-20T08:27:38.955876Z",
     "start_time": "2022-09-20T07:31:58.909052Z"
    }
   },
   "outputs": [
    {
     "name": "stderr",
     "output_type": "stream",
     "text": [
      "IOPub message rate exceeded.\n",
      "The notebook server will temporarily stop sending output\n",
      "to the client in order to avoid crashing it.\n",
      "To change this limit, set the config variable\n",
      "`--NotebookApp.iopub_msg_rate_limit`.\n",
      "\n",
      "Current values:\n",
      "NotebookApp.iopub_msg_rate_limit=1000.0 (msgs/sec)\n",
      "NotebookApp.rate_limit_window=3.0 (secs)\n",
      "\n",
      "IOPub message rate exceeded.\n",
      "The notebook server will temporarily stop sending output\n",
      "to the client in order to avoid crashing it.\n",
      "To change this limit, set the config variable\n",
      "`--NotebookApp.iopub_msg_rate_limit`.\n",
      "\n",
      "Current values:\n",
      "NotebookApp.iopub_msg_rate_limit=1000.0 (msgs/sec)\n",
      "NotebookApp.rate_limit_window=3.0 (secs)\n",
      "\n"
     ]
    },
    {
     "name": "stdout",
     "output_type": "stream",
     "text": [
      "{1: {'count': 683}, 6: {'count': 19}, 3: {'count': 55}, 5: {'count': 21}, 13: {'count': 4}, 16: {'count': 11}, 19: {'count': 3}, 17: {'count': 3}, 4: {'count': 25}, 10: {'count': 10}, 14: {'count': 11}, 2: {'count': 129}, 0: {'count': 42174}, 15: {'count': 19}, 12: {'count': 1}, 9: {'count': 15}, 8: {'count': 4}, 7: {'count': 5}, 25: {'count': 1}, 11: {'count': 8}, 30: {'count': 1}, 29: {'count': 1}, 18: {'count': 2}, 59: {'count': 1}, 22: {'count': 1}, 24: {'count': 1}}\n"
     ]
    },
    {
     "data": {
      "text/plain": [
       "<AxesSubplot:>"
      ]
     },
     "execution_count": 53,
     "metadata": {},
     "output_type": "execute_result"
    },
    {
     "data": {
      "image/png": "[encoded data removed]",
      "text/plain": [
       "<Figure size 1152x576 with 1 Axes>"
      ]
     },
     "metadata": {
      "needs_background": "light"
     },
     "output_type": "display_data"
    }
   ],
   "source": [
    "#Create and plot reuse count histogram for total datasets\n",
    "hist_all_reuse = get_datatier_histograms(df_dataset_reuse, \"ReuseCount\", n_bins=59)\n",
    "pd.DataFrame.from_dict(hist_all_reuse, orient='index').sort_index().plot.bar(figsize=(16,8))"
   ]
  },
  {
   "cell_type": "code",
   "execution_count": null,
   "id": "3035a052",
   "metadata": {
    "ExecuteTime": {
     "start_time": "2022-09-19T21:02:37.228Z"
    }
   },
   "outputs": [],
   "source": [
    "#Create and plot reuse count histogram for dataset by datatiers\n",
    "hist_datatier_reuse = get_datatier_histograms(df_dataset_reuse, \"ReuseCount\", \"CMSPrimaryDataTier\", [\"MINIAOD\",\"MINIAODSIM\",\"AOD\",\"AODSIM\"], 59)\n",
    "pd.DataFrame.from_dict(hist_datatier_reuse, orient='index').sort_index().plot.bar(figsize=(16,8))"
   ]
  },
  {
   "cell_type": "code",
   "execution_count": null,
   "id": "37213739",
   "metadata": {},
   "outputs": [],
   "source": []
  },
  {
   "cell_type": "markdown",
   "id": "7b4167a9",
   "metadata": {},
   "source": [
    "### [HIGH] pie chart with the average weekly/monthly amount of requested data by data tier\n"
   ]
  },
  {
   "cell_type": "code",
   "execution_count": 33,
   "id": "b6b85ff6",
   "metadata": {
    "ExecuteTime": {
     "end_time": "2022-09-19T20:52:03.114677Z",
     "start_time": "2022-09-19T20:52:00.439290Z"
    }
   },
   "outputs": [
    {
     "ename": "NameError",
     "evalue": "name 'today' is not defined",
     "output_type": "error",
     "traceback": [
      "\u001b[0;31m---------------------------------------------------------------------------\u001b[0m",
      "\u001b[0;31mNameError\u001b[0m                                 Traceback (most recent call last)",
      "\u001b[0;32m/tmp/ipykernel_565/2109616575.py\u001b[0m in \u001b[0;36m<module>\u001b[0;34m\u001b[0m\n\u001b[0;32m----> 1\u001b[0;31m \u001b[0mdf_week\u001b[0m \u001b[0;34m=\u001b[0m \u001b[0mget_dataset_per_day\u001b[0m\u001b[0;34m(\u001b[0m\u001b[0;36m7\u001b[0m\u001b[0;34m,\u001b[0m \u001b[0mtoday\u001b[0m\u001b[0;34m)\u001b[0m\u001b[0;34m\u001b[0m\u001b[0;34m\u001b[0m\u001b[0m\n\u001b[0m\u001b[1;32m      2\u001b[0m \u001b[0mpd_week\u001b[0m \u001b[0;34m=\u001b[0m \u001b[0mdf_week\u001b[0m\u001b[0;34m.\u001b[0m\u001b[0mgroupby\u001b[0m\u001b[0;34m(\u001b[0m\u001b[0;34m\"CMSPrimaryDataTier\"\u001b[0m\u001b[0;34m)\u001b[0m\u001b[0;34m.\u001b[0m\u001b[0mcount\u001b[0m\u001b[0;34m(\u001b[0m\u001b[0;34m)\u001b[0m\u001b[0;34m.\u001b[0m\u001b[0mtoPandas\u001b[0m\u001b[0;34m(\u001b[0m\u001b[0;34m)\u001b[0m\u001b[0;34m\u001b[0m\u001b[0;34m\u001b[0m\u001b[0m\n",
      "\u001b[0;31mNameError\u001b[0m: name 'today' is not defined"
     ]
    }
   ],
   "source": [
    "df_week = get_dataset_per_day(7, today)\n",
    "pd_week = df_week.groupby(\"CMSPrimaryDataTier\").count().toPandas()"
   ]
  },
  {
   "cell_type": "code",
   "execution_count": null,
   "id": "c479fc50",
   "metadata": {
    "ExecuteTime": {
     "end_time": "2022-09-19T20:52:03.117035Z",
     "start_time": "2022-09-19T20:52:03.117013Z"
    }
   },
   "outputs": [],
   "source": [
    "pd_week.set_index('CMSPrimaryDataTier').plot(kind='pie', y='count', figsize=(10, 10))"
   ]
  },
  {
   "cell_type": "code",
   "execution_count": null,
   "id": "7bfd472c",
   "metadata": {
    "ExecuteTime": {
     "end_time": "2022-09-19T20:52:03.119220Z",
     "start_time": "2022-09-19T20:52:03.119199Z"
    }
   },
   "outputs": [],
   "source": [
    "df_month = get_dataset_per_day(30, today)\n",
    "pd_month = df_month.groupby(\"CMSPrimaryDataTier\").count().toPandas()"
   ]
  },
  {
   "cell_type": "code",
   "execution_count": null,
   "id": "b5131dad",
   "metadata": {
    "ExecuteTime": {
     "end_time": "2022-09-19T20:52:03.121395Z",
     "start_time": "2022-09-19T20:52:03.121374Z"
    }
   },
   "outputs": [],
   "source": [
    "pd_month.set_index('CMSPrimaryDataTier').plot(kind='pie', y='count', figsize=(10, 10))"
   ]
  },
  {
   "cell_type": "code",
   "execution_count": null,
   "id": "27631a0c",
   "metadata": {},
   "outputs": [],
   "source": []
  },
  {
   "cell_type": "markdown",
   "id": "5602834c",
   "metadata": {},
   "source": [
    "## Rough Work"
   ]
  },
  {
   "cell_type": "markdown",
   "id": "c9be5ce8",
   "metadata": {},
   "source": [
    "## Lifetime distribution of datasets"
   ]
  },
  {
   "cell_type": "code",
   "execution_count": null,
   "id": "6575f75d",
   "metadata": {},
   "outputs": [],
   "source": [
    "def get_dataset_lifetime_histogram(days_range, end_date=date.today()):\n",
    "    \n",
    "    raw_df = get_raw_df(days_range, end_date)\n",
    "    # We filter:\n",
    "    # Events with Submission tool as CRAB\n",
    "    # Select a single instace of CRAB_Workflow - our concerened field `DESIRED_CMSDataset` is same for all such rows (check assumption check 1)\n",
    "    # Drop rows with DESIRED_CMSDataset as \"null\" - these are Monte Carlo jobs and do not require presence of datasets\n",
    "\n",
    "    df_filtered = raw_df\\\n",
    "            .filter(col(\"CMS_SubmissionTool\")=='CRAB')\\\n",
    "            .filter(col(\"DESIRED_CMSDataset\")!='null')\\\n",
    "            .drop_duplicates([\"CRAB_Workflow\"])\n",
    "    \n",
    "    # We aggregate:\n",
    "    # Group on DESIRED_CMSDataset\n",
    "    # - count CRAB_Workflow: this represent the frequency of request of the dataset\n",
    "    # - count CRAB_UserHN: (Question: how can this help us?) : frequency of unique users requesting that dataset \n",
    "\n",
    "    df_aggregated = df_filtered\\\n",
    "            .groupby(col('DESIRED_CMSDataset'))\\\n",
    "            .agg(\n",
    "                 countDistinct(col(\"CRAB_Workflow\")).alias(\"dataset_request_frequency\")\n",
    "                )\\\n",
    "            .orderBy(col('dataset_request_frequency').desc())\n",
    "    \n",
    "    return df_aggregated"
   ]
  },
  {
   "cell_type": "code",
   "execution_count": null,
   "id": "8a653953",
   "metadata": {},
   "outputs": [],
   "source": [
    "days_range, end_date = 730, date.today()\n",
    "raw_df = get_raw_df(days_range, end_date)\n",
    "df = raw_df\\\n",
    "        .filter(col(\"CMS_SubmissionTool\")=='CRAB')\\\n",
    "        .filter(col(\"DESIRED_CMSDataset\")!='null')\n",
    "#         .drop_duplicates([\"CRAB_Workflow\"])"
   ]
  },
  {
   "cell_type": "code",
   "execution_count": null,
   "id": "403fe53d",
   "metadata": {},
   "outputs": [],
   "source": [
    "df_dataset_recordTime = df.groupBy([\"CRAB_Workflow\", \"DESIRED_CMSDataset\"]).agg(func.min(\"RecordTime\").alias(\"rec_time\"))\n",
    "df_lifetime = df_dataset_recordTime.groupby([\"DESIRED_CMSDataset\"]).agg(func.max(\"rec_time\").alias(\"max_time\"), func.min(\"rec_time\").alias(\"min_time\")).withColumn(\"lifetime\", col(\"max_time\")-col(\"min_time\"))"
   ]
  },
  {
   "cell_type": "code",
   "execution_count": null,
   "id": "69ff63b8",
   "metadata": {},
   "outputs": [],
   "source": [
    "# df_lifetime.orderBy(col(\"lifetime\").desc()).limit(10).toPandas()"
   ]
  },
  {
   "cell_type": "code",
   "execution_count": null,
   "id": "2b1ef94a",
   "metadata": {},
   "outputs": [],
   "source": [
    "df_lifetime.filter(col(\"lifetime\")>720*24*60*60*1000).limit(5).toPandas()"
   ]
  },
  {
   "cell_type": "code",
   "execution_count": null,
   "id": "26c574fe",
   "metadata": {},
   "outputs": [],
   "source": [
    "#Exploring mappings between jobId and status\n",
    "raw_df.filter(col(\"GlobalJobId\")==\"crab3@vocms0155.cern.ch#43338079.0#1566477179\").orderBy(col('CpuTimeHr').desc()).limit(10).toPandas()"
   ]
  },
  {
   "cell_type": "code",
   "execution_count": null,
   "id": "f70ae6ea",
   "metadata": {},
   "outputs": [],
   "source": []
  },
  {
   "cell_type": "code",
   "execution_count": null,
   "id": "a176537e",
   "metadata": {},
   "outputs": [],
   "source": [
    "raw_df.filter(col(\"CRAB_Workflow\")==\"220824_072854:dekumar_crab_GJets_HT-200To400_TuneCP5_13TeV-madgraphMLM-pythia8\").limit(10).toPandas()"
   ]
  },
  {
   "cell_type": "code",
   "execution_count": null,
   "id": "104d4403",
   "metadata": {},
   "outputs": [],
   "source": [
    "raw_df.groupby(\"CRAB_Workflow\").agg(countDistinct(\"status\")).orderBy(col('count(status)').desc()).limit(10).toPandas()"
   ]
  },
  {
   "cell_type": "code",
   "execution_count": null,
   "id": "2d44c1d3",
   "metadata": {},
   "outputs": [],
   "source": [
    "raw_df.groupby(\"CRAB_Workflow\").agg(countDistinct(\"status\")).orderBy(col('count(status)').asc()).limit(10).toPandas()"
   ]
  },
  {
   "cell_type": "code",
   "execution_count": null,
   "id": "5ab5f21f",
   "metadata": {},
   "outputs": [],
   "source": [
    "my_df.count()"
   ]
  },
  {
   "cell_type": "code",
   "execution_count": null,
   "id": "dc249085",
   "metadata": {},
   "outputs": [],
   "source": [
    "raw_df = (\n",
    "        spark.read.option(\"basePath\", _DEFAULT_HDFS_FOLDER)\n",
    "        .json(\n",
    "            ['/project/monitoring/archive/condor/raw/metric/2022/08/10'],\n",
    "            schema=schema,\n",
    "        )\n",
    "        .select(\"data.*\")\n",
    "        .filter(col(\"CMS_SubmissionTool\")=='CRAB')\n",
    "    )"
   ]
  },
  {
   "cell_type": "code",
   "execution_count": null,
   "id": "8359ec48",
   "metadata": {},
   "outputs": [],
   "source": [
    "raw_df_drop_jobid = (\n",
    "        spark.read.option(\"basePath\", _DEFAULT_HDFS_FOLDER)\n",
    "        .json(\n",
    "            get_candidate_files(start_date, end_date, spark, base=_DEFAULT_HDFS_FOLDER),\n",
    "            schema=schema,\n",
    "        )\n",
    "        .select(\"data.*\")\n",
    "        .drop_duplicates([\"GlobalJobId\"])\n",
    ")\n",
    "\n",
    "raw_df_drop_workflow = raw_df_drop_jobid = (\n",
    "        spark.read.option(\"basePath\", _DEFAULT_HDFS_FOLDER)\n",
    "        .json(\n",
    "            get_candidate_files(start_date, end_date, spark, base=_DEFAULT_HDFS_FOLDER),\n",
    "            schema=schema,\n",
    "        )\n",
    "        .select(\"data.*\")\n",
    "        .drop_duplicates([\"Workflow\"])\n",
    ")"
   ]
  },
  {
   "cell_type": "code",
   "execution_count": null,
   "id": "d0c936f7",
   "metadata": {},
   "outputs": [],
   "source": [
    "raw_df.select([\"Status\", \"DESIRED_CMSDataset\", \"CpuTimeHr\", \"GlobalJobId\", \"CMS_SubmissionTool\", \"CRAB_UserHN\", \"Workflow\", \"CRAB_Workflow\"]).show(25)"
   ]
  },
  {
   "cell_type": "code",
   "execution_count": null,
   "id": "09b5e608",
   "metadata": {},
   "outputs": [],
   "source": [
    "#Submission tool frequency by Unique Job Id counts\n",
    "raw_df.groupby([\"CMS_SubmissionTool\"]).count().show()"
   ]
  },
  {
   "cell_type": "code",
   "execution_count": null,
   "id": "400e8072",
   "metadata": {},
   "outputs": [],
   "source": [
    "raw_df.drop_duplicates([\"CRAB_Workflow\"]).groupby(\"GlobalJobId\").count().sort(col(\"count\").desc()).limit(10).toPandas()"
   ]
  },
  {
   "cell_type": "code",
   "execution_count": null,
   "id": "20599ea2",
   "metadata": {},
   "outputs": [],
   "source": [
    "raw_df.drop_duplicates([\"GlobalJobId\"]).groupby(\"CRAB_Workflow\").count().sort(col(\"count\").desc()).limit(10).toPandas()"
   ]
  },
  {
   "cell_type": "code",
   "execution_count": null,
   "id": "4aeb5bc0",
   "metadata": {},
   "outputs": [],
   "source": [
    "raw_df.filter(col(\"DESIRED_CMSDataset\").contains(\"#\")).select([\"DESIRED_CMSDataset\"]).show()"
   ]
  },
  {
   "cell_type": "code",
   "execution_count": null,
   "id": "70b4174b",
   "metadata": {},
   "outputs": [],
   "source": [
    "raw_df.filter(col(\"Workflow\")==\"osuranyi_crab_JetHT_photons_HLTrerun\").sort(col(\"CRAB_Workflow\")).limit(10).toPandas()"
   ]
  },
  {
   "cell_type": "code",
   "execution_count": null,
   "id": "48991a80",
   "metadata": {},
   "outputs": [],
   "source": [
    "raw_df.filter(col(\"GlobalJobId\")==\"cmsgwms-submit4.fnal.gov#458695.77#1659948216\").limit(10).toPandas()"
   ]
  },
  {
   "cell_type": "code",
   "execution_count": null,
   "id": "a95ee90b",
   "metadata": {},
   "outputs": [],
   "source": [
    "raw_df.groupby(\"GlobalJobId\").count().limit(10).toPandas()"
   ]
  },
  {
   "cell_type": "code",
   "execution_count": null,
   "id": "48a0d2ec",
   "metadata": {},
   "outputs": [],
   "source": [
    "raw_df.groupby(\"GlobalJobId\").agg(countDistinct(\"DESIRED_CMSDataset\")).filter(col(\"count(DESIRED_CMSDataset)\")>1).show()"
   ]
  },
  {
   "cell_type": "code",
   "execution_count": null,
   "id": "d74caab8",
   "metadata": {},
   "outputs": [],
   "source": [
    "raw_df.filter(col(\"CMS_SubmissionTool\")==\"CRAB\").groupby(\"CRAB_Workflow\").agg(countDistinct(\"DESIRED_CMSDataset\")).filter(col(\"count(DESIRED_CMSDataset)\")>1).show()"
   ]
  },
  {
   "cell_type": "code",
   "execution_count": null,
   "id": "c580a5da",
   "metadata": {},
   "outputs": [],
   "source": [
    "my_df = raw_df.select(col('DESIRED_CMSDataset'),\\\n",
    "                    col('CpuTimeHr'),\\\n",
    "                    col('CRAB_UserHN'),\\\n",
    "                    col('CRAB_Workflow'))\\\n",
    "            .groupby(col('DESIRED_CMSDataset'))\\\n",
    "            .agg(_sum(\"CpuTimeHr\").alias(\"sum_CpuTimeHr\"),\\\n",
    "                countDistinct(col(\"CRAB_UserHN\")).alias(\"distinct_CRAB_UserHN\"),\n",
    "                countDistinct(col(\"CRAB_Workflow\")).alias(\"distinct_Workflow\"))\\\n",
    "            .orderBy(col('distinct_CRAB_UserHN').desc())"
   ]
  },
  {
   "cell_type": "code",
   "execution_count": null,
   "id": "2bb647ad",
   "metadata": {},
   "outputs": [],
   "source": [
    "my_df.count()"
   ]
  },
  {
   "cell_type": "code",
   "execution_count": null,
   "id": "f6c7e51f",
   "metadata": {},
   "outputs": [],
   "source": [
    "my_df.limit(20).toPandas()"
   ]
  },
  {
   "cell_type": "markdown",
   "id": "f038c6e4",
   "metadata": {},
   "source": [
    "### Assumption checks"
   ]
  },
  {
   "cell_type": "markdown",
   "id": "6254d7a6",
   "metadata": {},
   "source": [
    "#### Check 1: One to one mapping between DESIRED_CMSDataset and CRAB_Workflow"
   ]
  },
  {
   "cell_type": "code",
   "execution_count": null,
   "id": "a50b3a55",
   "metadata": {},
   "outputs": [],
   "source": [
    "raw_df.select([\"DESIRED_CMSDataset\", \"CRAB_Workflow\"]).groupby(\"CRAB_Workflow\").agg(countDistinct(\"DESIRED_CMSDataset\").alias(\"single_worflow_dataset_count\")).filter(col(\"single_worflow_dataset_count\") > 1).show()"
   ]
  },
  {
   "cell_type": "code",
   "execution_count": null,
   "id": "b7a8f66b",
   "metadata": {},
   "outputs": [],
   "source": [
    "raw_df = get_raw_df(1)"
   ]
  },
  {
   "cell_type": "code",
   "execution_count": null,
   "id": "88a4d20d",
   "metadata": {},
   "outputs": [],
   "source": [
    "raw_df.filter(col(\"DESIRED_CMSDataset\").isNull()).show(20,False)"
   ]
  },
  {
   "cell_type": "code",
   "execution_count": null,
   "id": "960ea5fb",
   "metadata": {},
   "outputs": [],
   "source": []
  }
 ],
 "metadata": {
  "celltoolbar": "Slideshow",
  "kernelspec": {
   "display_name": "Python 3",
   "language": "python",
   "name": "python3"
  },
  "language_info": {
   "codemirror_mode": {
    "name": "ipython",
    "version": 3
   },
   "file_extension": ".py",
   "mimetype": "text/x-python",
   "name": "python",
   "nbconvert_exporter": "python",
   "pygments_lexer": "ipython3",
   "version": "3.9.12"
  },
  "sparkconnect": {
   "bundled_options": [],
   "list_of_options": [
    {
     "name": "spark.executor.memory",
     "value": "32g"
    },
    {
     "name": "spark.jars.packages",
     "value": "org.apache.spark:spark-avro_2.12:3.2.1"
    }
   ]
  },
  "toc": {
   "base_numbering": 1,
   "nav_menu": {},
   "number_sections": false,
   "sideBar": true,
   "skip_h1_title": false,
   "title_cell": "Table of Contents",
   "title_sidebar": "Contents",
   "toc_cell": false,
   "toc_position": {
    "height": "22503.8px",
    "left": "10px",
    "top": "150px",
    "width": "352px"
   },
   "toc_section_display": true,
   "toc_window_display": false
  }
 },
 "nbformat": 4,
 "nbformat_minor": 5
}
