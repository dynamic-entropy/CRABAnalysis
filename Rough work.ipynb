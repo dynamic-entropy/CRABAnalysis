{
 "cells": [
  {
   "cell_type": "code",
   "execution_count": 3,
   "id": "9b4ef55f",
   "metadata": {},
   "outputs": [],
   "source": [
    "from pyspark.sql.window import Window"
   ]
  },
  {
   "cell_type": "code",
   "execution_count": 1,
   "id": "1058f6d5",
   "metadata": {},
   "outputs": [],
   "source": [
    "simpleData = ((\"James\", \"Sales\", 3000), \\\n",
    "    (\"Michael\", \"Sales\", 4600),  \\\n",
    "    (\"Robert\", \"Sales\", 4100),   \\\n",
    "    (\"Maria\", \"Finance\", 3000),  \\\n",
    "    (\"James\", \"Sales\", 3000),    \\\n",
    "    (\"Scott\", \"Finance\", 3300),  \\\n",
    "    (\"Jen\", \"Finance\", 3900),    \\\n",
    "    (\"Jeff\", \"Marketing\", 3000), \\\n",
    "    (\"Kumar\", \"Marketing\", 2000),\\\n",
    "    (\"Saif\", \"Sales\", 4100) \\\n",
    "  )\n",
    " \n",
    "columns= [\"employee_name\", \"department\", \"salary\"]\n",
    "\n",
    "df = spark.createDataFrame(data = simpleData, schema = columns)"
   ]
  },
  {
   "cell_type": "code",
   "execution_count": 5,
   "id": "b639d16c",
   "metadata": {},
   "outputs": [
    {
     "name": "stdout",
     "output_type": "stream",
     "text": [
      "+-------------+----------+------+---+------+-----+----+----+\n",
      "|employee_name|department|salary|row|   avg|  sum| min| max|\n",
      "+-------------+----------+------+---+------+-----+----+----+\n",
      "|        Maria|   Finance|  3000|  1|3400.0|10200|3000|3900|\n",
      "|        Scott|   Finance|  3300|  2|3400.0|10200|3000|3900|\n",
      "|          Jen|   Finance|  3900|  3|3400.0|10200|3000|3900|\n",
      "|        Kumar| Marketing|  2000|  1|2500.0| 5000|2000|3000|\n",
      "|         Jeff| Marketing|  3000|  2|2500.0| 5000|2000|3000|\n",
      "|        James|     Sales|  3000|  1|3760.0|18800|3000|4600|\n",
      "|        James|     Sales|  3000|  2|3760.0|18800|3000|4600|\n",
      "|       Robert|     Sales|  4100|  3|3760.0|18800|3000|4600|\n",
      "|         Saif|     Sales|  4100|  4|3760.0|18800|3000|4600|\n",
      "|      Michael|     Sales|  4600|  5|3760.0|18800|3000|4600|\n",
      "+-------------+----------+------+---+------+-----+----+----+\n",
      "\n"
     ]
    }
   ],
   "source": [
    "windowSpecAgg  = Window.partitionBy(\"department\")\n",
    "windowSpec  = Window.partitionBy(\"department\").orderBy(\"salary\")\n",
    "\n",
    "from pyspark.sql.functions import col,avg,sum,min,max,row_number \n",
    "df.withColumn(\"row\",row_number().over(windowSpec)) \\\n",
    "  .withColumn(\"avg\", avg(col(\"salary\")).over(windowSpecAgg)) \\\n",
    "  .withColumn(\"sum\", sum(col(\"salary\")).over(windowSpecAgg)) \\\n",
    "  .withColumn(\"min\", min(col(\"salary\")).over(windowSpecAgg)) \\\n",
    "  .withColumn(\"max\", max(col(\"salary\")).over(windowSpecAgg)) \\\n",
    "  .show()"
   ]
  },
  {
   "cell_type": "code",
   "execution_count": null,
   "id": "241530fc",
   "metadata": {},
   "outputs": [],
   "source": []
  }
 ],
 "metadata": {
  "kernelspec": {
   "display_name": "Python 3",
   "language": "python",
   "name": "python3"
  },
  "language_info": {
   "codemirror_mode": {
    "name": "ipython",
    "version": 3
   },
   "file_extension": ".py",
   "mimetype": "text/x-python",
   "name": "python",
   "nbconvert_exporter": "python",
   "pygments_lexer": "ipython3",
   "version": "3.9.12"
  },
  "sparkconnect": {
   "bundled_options": [],
   "list_of_options": []
  }
 },
 "nbformat": 4,
 "nbformat_minor": 5
}
